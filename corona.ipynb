{
 "cells": [
  {
   "cell_type": "code",
   "execution_count": 1,
   "metadata": {
    "pycharm": {
     "is_executing": false,
     "name": "#%%\n"
    }
   },
   "outputs": [],
   "source": [
    "import pandas as pd\n",
    "import numpy as np\n",
    "import matplotlib.pyplot as plt\n",
    "from pyspark.sql import SparkSession"
   ]
  },
  {
   "cell_type": "code",
   "execution_count": 2,
   "metadata": {
    "pycharm": {
     "is_executing": false,
     "name": "#%%\n"
    }
   },
   "outputs": [
    {
     "data": {
      "text/plain": "<pyspark.sql.session.SparkSession at 0x2f6ef2ba908>",
      "text/html": "\n            <div>\n                <p><b>SparkSession - in-memory</b></p>\n                \n        <div>\n            <p><b>SparkContext</b></p>\n\n            <p><a href=\"http://WLPE0205D0.wks.jnj.com:4040\">Spark UI</a></p>\n\n            <dl>\n              <dt>Version</dt>\n                <dd><code>v2.4.5</code></dd>\n              <dt>Master</dt>\n                <dd><code>local[*]</code></dd>\n              <dt>AppName</dt>\n                <dd><code>pyspark-shell</code></dd>\n            </dl>\n        </div>\n        \n            </div>\n        "
     },
     "metadata": {},
     "output_type": "execute_result",
     "execution_count": 2
    }
   ],
   "source": [
    "spark = SparkSession.builder.getOrCreate()\n",
    "spark"
   ]
  },
  {
   "cell_type": "markdown",
   "metadata": {},
   "source": [
    "#  **Análise de Dados do novo Corona Vírus (2019-nCoV, covid-19)**"
   ]
  },
  {
   "cell_type": "markdown",
   "metadata": {
    "pycharm": {
     "name": "#%% md\n"
    }
   },
   "source": [
    "## Introdução\n",
    "---\n",
    "\n",
    "No presente trabalho, como parte da Conclusão de Curso de Ciência dos Dados na PUC-Minas Virtual, pretendemos avaliar a situação da pandemia do coronavírus 2019 no Brasil e no Mundo.\n",
    "\n",
    "Nele coletamos dados, e informações, a respeito da doença. Esses dados foram obtidos de um repositório na plataforma [kaggle]() em que estão hospedados as informações que a Johns Hopkins estão disponibilizando.\n",
    "\n",
    "Em cima desses dados faremos uma análise estatística descritiva desse dados e, por fim, uma regressão logística da curva a fim de predizer a evolução da doença no Brasil.\n",
    "\n",
    "As análises serão feitas usando Python e bibliotecas que auxiliarão na análise como: Pyspark, pandas, numpy, matplotlib, boker, entre outras."
   ]
  },
  {
   "cell_type": "markdown",
   "metadata": {
    "pycharm": {
     "name": "#%% md\n"
    }
   },
   "source": [
    "### Contextualização\n",
    "\n",
    "Em 31 de Dezembro de 2019, a Organização Mundial de Saúde lançou um alerta sobre casos sérios de pneumonia na cidade Wuhan na China.\n",
    "Esse casos teriam como causa raiz um novo vírus.\n",
    "\n",
    "Esse novo vírus, um coronavírus da família do SARS e MERS, responsável pela disseminação das doenças respiratórias que tem levado diversas pessoas a óbito.\n",
    "Inicialmente, a contaminação estava concentrada em Wuhan na província de Hubei na China.\n",
    "E as pessoas contaminadas relatavam alguma relação com um [grande mercado de frutos do mar e animais](https://g1.globo.com/ciencia-e-saude/noticia/2020/02/07/pangolim-possivel-hospedeiro-intermediario-do-coronavirus-dizem-cientistas-chineses.ghtml?_ga=2.32560894.1115685470.1584910869-1095690670.1583698406).\n",
    "O que sugere que se iniciou como uma contaminação passada de animais para pessoas.\n",
    "Vírus similares são comumente encontrados em morcegos e pangolins, animais comercializados e consumidos no mercado mencionado.\n",
    "Porém, a doença tem se espalhado além das fronteiras da China e se espalhado rapidamente pelo mundo, uma vez que o vírus passou a ser transmitido de pessoa para pessoa.\n",
    "\n",
    "Dentre os sintomas os mais comuns da doença estão a tosse e febre acima de 37°C.\n",
    "E os sintomas mais graves são Insuficiência renal e dificuldade respiratória aguda conforme [informativo do G1](https://especiais.g1.globo.com/bemestar/2020/coronavirus/?_ga=2.57728874.1115685470.1584910869-1095690670.1583698406).\n",
    "A transmissão tem acontecido de diversas formas:\n",
    "\n",
    "* Pelo ar:\n",
    "  * Por saliva, catarro e gotículas expelidas pela boca (espirro, tosse e fala)\n",
    "\n",
    "* Por contato:\n",
    "  * Beijo\n",
    "  * Aperto de mão\n",
    "  * Abraço\n",
    "\n",
    "* Superfícies não higienizadas:\n",
    "  * Celulares\n",
    "  * Maçanetas\n",
    "  * Corrimão\n",
    "  * Botões\n",
    "  * Teclas\n",
    "  * Apoios de transporte público\n",
    "\n",
    "* Via animais:\n",
    "  * Consumo de animais contaminados\n",
    "\n",
    "Devido a transmissão entre pessoas ser feita através de práticas e comportamento comuns da pessoas medidas preventivas tem sido adotadas e recomendadas, como:\n",
    "\n",
    "* Lavar as mãos até os pulsos, inclusive a parte interna das unhas\n",
    "* Uso de álcool 70% antes de encostar em áreas como olhos, nariz ou boca\n",
    "* Ao tossir cobrir a boca com máscara ou partes do corpo como interior do cotovelo\n",
    "* Evitar multidões\n",
    "* Evitar tocar olhos, nariz ou boca\n",
    "* Limpar com álcool objetos tocados frequentemente\n",
    "* Evitar cumprimentos como apertos de mão, abraços ou beijos\n",
    "* Evitar sair de casa caso apresente algum sintoma de gripe\n",
    "* Utilizar lenço descartável caso esteja com nariz escorrendo\n",
    "* Evitar a divulgação de informações falsas e sem referência confiável\n",
    "\n",
    "\n",
    "### Problema proposto\n",
    "\n",
    "Com os dados da Johns Hopkins disponibilizados na plataforma do kaggle pretendemos fazer uma análise estatística\n",
    "descritiva. Revendo a evolução da pandemia pelo mundo e, principalmente, no Brasil.\n",
    "\n",
    "Com essa análise pretendemos dar uma visão sobre a evolução da doença no Brasil comparada aos demais países. E, por fim, fazer uma predição da\n",
    "evolução do quadro nos próximos dias.\n"
   ]
  },
  {
   "cell_type": "markdown",
   "metadata": {
    "pycharm": {
     "name": "#%% md\n"
    }
   },
   "source": [
    "## Coleta de Dados\n",
    "---\n",
    "A Universidade de Johns Hopkins tem acompanhado o caso e disponibilado materias para a comunidade científica como um [*dashboard*](https://www.arcgis.com/apps/opsdashboard/index.html#/bda7594740fd40299423467b48e9ecf6) e dados em seu repositório no [github](https://github.com/CSSEGISandData).\n",
    "Esses dados foram reformulados e disponibilizados na plataforma do [kaggle](https://www.kaggle.com/sudalairajkumar/novel-corona-virus-2019-dataset) a fim de incentivar a comunidade de ciências dos dados a análisá-los e, eventualmente, levar a alguma descoberta a respeito dessa doença.\n",
    "\n",
    "Usaremos esse dados ao longo do projeto a fim de analisar estatísticamente e corroborar as informações divulgadas.\n",
    "Os dados são compostos de relatórios diários do quadro do coronavírus ao redor do mundo.\n"
   ]
  },
  {
   "cell_type": "markdown",
   "metadata": {
    "pycharm": {
     "name": "#%% md\n"
    }
   },
   "source": [
    "## Processamento e Tratamento de dados\n",
    "---\n",
    "\n",
    "Esses dados se iniciam em 22 de Janeiro de 2020 e vão até 26 de março de 2020."
   ]
  },
  {
   "cell_type": "code",
   "execution_count": 3,
   "metadata": {
    "pycharm": {
     "is_executing": false,
     "name": "#%%\n"
    }
   },
   "outputs": [
    {
     "name": "stdout",
     "text": [
      "+----+---------------+--------------+-------------------+-----------+---------+------+---------+\n",
      "| SNo|ObservationDate|Province/State|     Country/Region|Last Update|Confirmed|Deaths|Recovered|\n",
      "+----+---------------+--------------+-------------------+-----------+---------+------+---------+\n",
      "|7621|     03/22/2020|          null|            Andorra|3/8/20 5:31|    113.0|   1.0|      1.0|\n",
      "|7626|     03/22/2020|          null|            Austria|3/8/20 5:31|   3580.0|  16.0|      9.0|\n",
      "|7622|     03/22/2020|          null|             Angola|3/8/20 5:31|      2.0|   0.0|      0.0|\n",
      "|7618|     03/22/2020|          null|        Afghanistan|3/8/20 5:31|     40.0|   1.0|      1.0|\n",
      "|7623|     03/22/2020|          null|Antigua and Barbuda|3/8/20 5:31|      1.0|   0.0|      0.0|\n",
      "+----+---------------+--------------+-------------------+-----------+---------+------+---------+\n",
      "only showing top 5 rows\n",
      "\n",
      "+---+---------------+--------------+--------------+---------------+---------+------+---------+\n",
      "|SNo|ObservationDate|Province/State|Country/Region|    Last Update|Confirmed|Deaths|Recovered|\n",
      "+---+---------------+--------------+--------------+---------------+---------+------+---------+\n",
      "|  1|     01/22/2020|         Anhui|Mainland China|1/22/2020 17:00|      1.0|   0.0|      0.0|\n",
      "|  2|     01/22/2020|       Beijing|Mainland China|1/22/2020 17:00|     14.0|   0.0|      0.0|\n",
      "|  3|     01/22/2020|     Chongqing|Mainland China|1/22/2020 17:00|      6.0|   0.0|      0.0|\n",
      "|  4|     01/22/2020|        Fujian|Mainland China|1/22/2020 17:00|      1.0|   0.0|      0.0|\n",
      "|  5|     01/22/2020|         Gansu|Mainland China|1/22/2020 17:00|      0.0|   0.0|      0.0|\n",
      "+---+---------------+--------------+--------------+---------------+---------+------+---------+\n",
      "only showing top 5 rows\n",
      "\n"
     ],
     "output_type": "stream"
    }
   ],
   "source": [
    "folder_path = './novel-corona-virus-2019-dataset'\n",
    "file_path = folder_path + '/covid_19_data.csv'\n",
    "covid_19_data = spark.read.format(\"csv\")\\\n",
    "    .option(\"header\", \"true\")\\\n",
    "    .load(file_path).cache()\n",
    "covid_19_data.sort('Last Update', ascending=False).show(5)\n",
    "covid_19_data.sort('Last Update').show(5)"
   ]
  },
  {
   "cell_type": "markdown",
   "metadata": {
    "pycharm": {
     "name": "#%% md\n"
    }
   },
   "source": [
    "Esse conjunto de dados possui o seguinte esquema:\n",
    "\n",
    "* *SNo* que seria o identificador do registro\n",
    "* *ObservationDate* que seria a data em que o registro foi obtido\n",
    "* *Province/State* é o estado ou província em que o registro foi obtido\n",
    "* *Country/Region* é o país ou a região em que o registro foi obtido\n",
    "* *Last Update* é a data da última atualização do registro\n",
    "* *confirmed* é a quantidade de casos confirmados\n",
    "* *deaths* é a quantidade de mortes registradas até a última atualização\n",
    "* *recovered* é a quantidade de pacientes que se recuperaram"
   ]
  },
  {
   "cell_type": "code",
   "execution_count": 4,
   "metadata": {
    "pycharm": {
     "is_executing": false,
     "name": "#%%\n"
    }
   },
   "outputs": [
    {
     "name": "stdout",
     "text": [
      "root\n",
      " |-- SNo: string (nullable = true)\n",
      " |-- ObservationDate: string (nullable = true)\n",
      " |-- Province/State: string (nullable = true)\n",
      " |-- Country/Region: string (nullable = true)\n",
      " |-- Last Update: string (nullable = true)\n",
      " |-- Confirmed: string (nullable = true)\n",
      " |-- Deaths: string (nullable = true)\n",
      " |-- Recovered: string (nullable = true)\n",
      "\n"
     ],
     "output_type": "stream"
    }
   ],
   "source": [
    "covid_19_data.printSchema()"
   ]
  },
  {
   "cell_type": "markdown",
   "metadata": {
    "pycharm": {
     "name": "#%% md\n"
    }
   },
   "source": [
    "O identificador dos registros não será necessário em nossas análises e, por isso, podemos removê-lo dos nossos dados.\n",
    "Além disso, os dados das quantidades de mortes, casos confirmados e recuperações estão em formato de texto e queremos como númericos.\n",
    "Por fim, os dados referentes a *Mainland China* podemos tratar como da China inteira."
   ]
  },
  {
   "cell_type": "code",
   "execution_count": 5,
   "metadata": {
    "pycharm": {
     "is_executing": false,
     "name": "#%%\n"
    }
   },
   "outputs": [
    {
     "name": "stdout",
     "text": [
      "+---------------+--------------+--------------+---------------+---------+------+---------+\n",
      "|ObservationDate|Province/State|Country/Region|    Last Update|confirmed|deaths|recovered|\n",
      "+---------------+--------------+--------------+---------------+---------+------+---------+\n",
      "|     01/22/2020|         Anhui|         China|1/22/2020 17:00|        1|     0|        0|\n",
      "|     01/22/2020|       Beijing|         China|1/22/2020 17:00|       14|     0|        0|\n",
      "|     01/22/2020|     Chongqing|         China|1/22/2020 17:00|        6|     0|        0|\n",
      "|     01/22/2020|        Fujian|         China|1/22/2020 17:00|        1|     0|        0|\n",
      "|     01/22/2020|         Gansu|         China|1/22/2020 17:00|        0|     0|        0|\n",
      "|     01/22/2020|     Guangdong|         China|1/22/2020 17:00|       26|     0|        0|\n",
      "|     01/22/2020|       Guangxi|         China|1/22/2020 17:00|        2|     0|        0|\n",
      "|     01/22/2020|       Guizhou|         China|1/22/2020 17:00|        1|     0|        0|\n",
      "|     01/22/2020|        Hainan|         China|1/22/2020 17:00|        4|     0|        0|\n",
      "|     01/22/2020|         Hebei|         China|1/22/2020 17:00|        1|     0|        0|\n",
      "|     01/22/2020|  Heilongjiang|         China|1/22/2020 17:00|        0|     0|        0|\n",
      "|     01/22/2020|         Henan|         China|1/22/2020 17:00|        5|     0|        0|\n",
      "|     01/22/2020|     Hong Kong|     Hong Kong|1/22/2020 17:00|        0|     0|        0|\n",
      "|     01/22/2020|         Hubei|         China|1/22/2020 17:00|      444|    17|       28|\n",
      "|     01/22/2020|         Hunan|         China|1/22/2020 17:00|        4|     0|        0|\n",
      "|     01/22/2020|Inner Mongolia|         China|1/22/2020 17:00|        0|     0|        0|\n",
      "|     01/22/2020|       Jiangsu|         China|1/22/2020 17:00|        1|     0|        0|\n",
      "|     01/22/2020|       Jiangxi|         China|1/22/2020 17:00|        2|     0|        0|\n",
      "|     01/22/2020|         Jilin|         China|1/22/2020 17:00|        0|     0|        0|\n",
      "|     01/22/2020|      Liaoning|         China|1/22/2020 17:00|        2|     0|        0|\n",
      "+---------------+--------------+--------------+---------------+---------+------+---------+\n",
      "only showing top 20 rows\n",
      "\n"
     ],
     "output_type": "stream"
    }
   ],
   "source": [
    "from pyspark.sql.types import IntegerType\n",
    "covid_19_data = covid_19_data\\\n",
    "    .drop('SNo')\n",
    "    #.withColumn('sno', covid_19_data['SNo'].cast(IntegerType()))\n",
    "covid_19_data = covid_19_data\\\n",
    "    .withColumn('confirmed', covid_19_data['confirmed'].cast(IntegerType()))\n",
    "covid_19_data = covid_19_data\\\n",
    "    .withColumn('deaths', covid_19_data['deaths'].cast(IntegerType()))\n",
    "covid_19_data = covid_19_data\\\n",
    "    .withColumn('recovered', covid_19_data['recovered'].cast(IntegerType()))\n",
    "covid_19_data = covid_19_data\\\n",
    "    .replace({'Mainland China':'China'})\n",
    "covid_19_data.show()"
   ]
  },
  {
   "cell_type": "markdown",
   "source": [
    "Além dos dados sobre os relatórios de corona vírus, iremos usar dados do Banco Mundial com o total da população dos países disponibilizado no [site do worldbank](https://data.worldbank.org/indicator/sp.pop.totl).\n",
    "Esse conjunto de dados contêm o total da população de cada país por vários anos, desde 1960 até 2018.\n",
    "Apesar de ter a coluna relacionado a 2019, os dados referentes a ela ainda não estão disponíveis e, por isso, iremos usar a população de 2018.\n",
    "Essa informação nos ajudará a calcular a taxa de infecção do corono vírus por país (quanto casos confirmados dividido pelo tamanho da população).\n",
    "Isso nos ajudará a contrastar o quão eficiente tem sido o combate a disseminação do vírus por país."
   ],
   "metadata": {
    "collapsed": false,
    "pycharm": {
     "name": "#%% md\n"
    }
   }
  },
  {
   "cell_type": "code",
   "execution_count": 6,
   "outputs": [
    {
     "name": "stdout",
     "text": [
      "+--------------------+---------+\n",
      "|        Country Name|     2018|\n",
      "+--------------------+---------+\n",
      "|               Aruba|   105845|\n",
      "|         Afghanistan| 37172386|\n",
      "|              Angola| 30809762|\n",
      "|             Albania|  2866376|\n",
      "|             Andorra|    77006|\n",
      "|          Arab World|419790588|\n",
      "|United Arab Emirates|  9630959|\n",
      "|           Argentina| 44494502|\n",
      "|             Armenia|  2951776|\n",
      "|      American Samoa|    55465|\n",
      "| Antigua and Barbuda|    96286|\n",
      "|           Australia| 24992369|\n",
      "|             Austria|  8847037|\n",
      "|          Azerbaijan|  9942334|\n",
      "|             Burundi| 11175378|\n",
      "|             Belgium| 11422068|\n",
      "|               Benin| 11485048|\n",
      "|        Burkina Faso| 19751535|\n",
      "|          Bangladesh|161356039|\n",
      "|            Bulgaria|  7024216|\n",
      "+--------------------+---------+\n",
      "only showing top 20 rows\n",
      "\n"
     ],
     "output_type": "stream"
    }
   ],
   "source": [
    "world_population_folder_path = './data-worldbank-pop-totl'\n",
    "world_population_file_path = world_population_folder_path + '/API_SP.POP.TOTL_DS2_en_csv_v2_887275.csv'\n",
    "world_population_data = spark.read.format(\"csv\")\\\n",
    "    .option(\"header\", \"true\")\\\n",
    "    .load(world_population_file_path)\\\n",
    "    .cache()\n",
    "\n",
    "world_population_data = world_population_data.select(['Country Name', '2018'])\n",
    "\n",
    "world_population_data.show()"
   ],
   "metadata": {
    "collapsed": false,
    "pycharm": {
     "name": "#%%\n",
     "is_executing": false
    }
   }
  },
  {
   "cell_type": "markdown",
   "metadata": {
    "pycharm": {
     "name": "#%% md\n"
    }
   },
   "source": [
    "## Análise e Exploração dos Dados\n",
    "\n",
    "#### Países e regiões afetadas pelo Coronavírus (2019-nCoV) até agora\n",
    "---\n",
    "\n",
    "Após se espalhar para outros países além da China, a doença rapidamente se espalhou pelo mundo e já tem afetado quase todos os países no globo."
   ]
  },
  {
   "cell_type": "code",
   "execution_count": 7,
   "metadata": {
    "pycharm": {
     "is_executing": false,
     "name": "#%%\n"
    }
   },
   "outputs": [
    {
     "name": "stdout",
     "text": [
      "China\n",
      "Hong Kong\n",
      "Macau\n",
      "Taiwan\n",
      "US\n",
      "Japan\n",
      "Thailand\n",
      "South Korea\n",
      "Singapore\n",
      "Philippines\n",
      "Malaysia\n",
      "Vietnam\n",
      "Australia\n",
      "Mexico\n",
      "Brazil\n",
      "Colombia\n",
      "France\n",
      "Nepal\n",
      "Canada\n",
      "Cambodia\n",
      "Sri Lanka\n",
      "Ivory Coast\n",
      "Germany\n",
      "Finland\n",
      "United Arab Emirates\n",
      "India\n",
      "Italy\n",
      "UK\n",
      "Russia\n",
      "Sweden\n",
      "Spain\n",
      "Belgium\n",
      "Others\n",
      "Egypt\n",
      "Iran\n",
      "Israel\n",
      "Lebanon\n",
      "Iraq\n",
      "Oman\n",
      "Afghanistan\n",
      "Bahrain\n",
      "Kuwait\n",
      "Austria\n",
      "Algeria\n",
      "Croatia\n",
      "Switzerland\n",
      "Pakistan\n",
      "Georgia\n",
      "Greece\n",
      "North Macedonia\n",
      "Norway\n",
      "Romania\n",
      "Denmark\n",
      "Estonia\n",
      "Netherlands\n",
      "San Marino\n",
      " Azerbaijan\n",
      "Belarus\n",
      "Iceland\n",
      "Lithuania\n",
      "New Zealand\n",
      "Nigeria\n",
      "North Ireland\n",
      "Ireland\n",
      "Luxembourg\n",
      "Monaco\n",
      "Qatar\n",
      "Ecuador\n",
      "Azerbaijan\n",
      "Czech Republic\n",
      "Armenia\n",
      "Dominican Republic\n",
      "Indonesia\n",
      "Portugal\n",
      "Andorra\n",
      "Latvia\n",
      "Morocco\n",
      "Saudi Arabia\n",
      "Senegal\n",
      "Argentina\n",
      "Chile\n",
      "Jordan\n",
      "Ukraine\n",
      "Saint Barthelemy\n",
      "Hungary\n",
      "Faroe Islands\n",
      "Gibraltar\n",
      "Liechtenstein\n",
      "Poland\n",
      "Tunisia\n",
      "Palestine\n",
      "Bosnia and Herzegovina\n",
      "Slovenia\n",
      "South Africa\n",
      "Bhutan\n",
      "Cameroon\n",
      "Costa Rica\n",
      "Peru\n",
      "Serbia\n",
      "Slovakia\n",
      "Togo\n",
      "Vatican City\n",
      "French Guiana\n",
      "Malta\n",
      "Martinique\n",
      "Republic of Ireland\n",
      "Bulgaria\n",
      "Maldives\n",
      "Bangladesh\n",
      "Moldova\n",
      "Paraguay\n",
      "Albania\n",
      "Cyprus\n",
      "St. Martin\n",
      "Brunei\n",
      "occupied Palestinian territory\n",
      "('St. Martin',)\n",
      "Burkina Faso\n",
      "Channel Islands\n",
      "Holy See\n",
      "Mongolia\n",
      "Panama\n",
      "Bolivia\n",
      "Honduras\n",
      "Congo (Kinshasa)\n",
      "Jamaica\n",
      "Reunion\n",
      "Turkey\n",
      "Cuba\n",
      "Guyana\n",
      "Kazakhstan\n",
      "Cayman Islands\n",
      "Guadeloupe\n",
      "Ethiopia\n",
      "Sudan\n",
      "Guinea\n",
      "Antigua and Barbuda\n",
      "Aruba\n",
      "Kenya\n",
      "Uruguay\n",
      "Ghana\n",
      "Jersey\n",
      "Namibia\n",
      "Seychelles\n",
      "Trinidad and Tobago\n",
      "Venezuela\n",
      "Curacao\n",
      "Eswatini\n",
      "Gabon\n",
      "Guatemala\n",
      "Guernsey\n",
      "Mauritania\n",
      "Rwanda\n",
      "Saint Lucia\n",
      "Saint Vincent and the Grenadines\n",
      "Suriname\n",
      "Kosovo\n",
      "Central African Republic\n",
      "Congo (Brazzaville)\n",
      "Equatorial Guinea\n",
      "Uzbekistan\n",
      "Guam\n",
      "Puerto Rico\n",
      "Benin\n",
      "Greenland\n",
      "Liberia\n",
      "Mayotte\n",
      "Republic of the Congo\n",
      "Somalia\n",
      "Tanzania\n",
      "The Bahamas\n",
      "Barbados\n",
      "Montenegro\n",
      "The Gambia\n",
      "Kyrgyzstan\n",
      "Mauritius\n",
      "Zambia\n",
      "Djibouti\n",
      "Gambia, The\n",
      "Bahamas, The\n",
      "Chad\n",
      "El Salvador\n",
      "Fiji\n",
      "Nicaragua\n",
      "Madagascar\n",
      "Haiti\n",
      "Angola\n",
      "Cabo Verde\n",
      "Niger\n",
      "Papua New Guinea\n",
      "Zimbabwe\n",
      "Cape Verde\n",
      "East Timor\n",
      "Eritrea\n",
      "Uganda\n",
      "Bahamas\n",
      "Dominica\n",
      "Gambia\n",
      "Grenada\n",
      "Mozambique\n",
      "Syria\n",
      "Timor-Leste\n",
      "Belize\n",
      "Laos\n",
      "Libya\n",
      "Diamond Princess\n",
      "Guinea-Bissau\n",
      "Mali\n",
      "Saint Kitts and Nevis\n",
      "West Bank and Gaza\n",
      "\n",
      "Total de países e regiões afetadas:  210\n"
     ],
     "output_type": "stream"
    }
   ],
   "source": [
    "countries = covid_19_data.select('Country/Region')\\\n",
    "    .rdd.map(lambda r: r['Country/Region'])\\\n",
    "    .distinct()\\\n",
    "    .collect()\n",
    "print(\"\\n\".join(countries))\n",
    "\n",
    "print(\"\\nTotal de países e regiões afetadas: \",len(countries))\n"
   ]
  },
  {
   "cell_type": "markdown",
   "metadata": {},
   "source": [
    "#### Estado atual mundialmente\n",
    "---\n",
    "\n",
    "A situação atual mundialmente pode ser percebida pelos registros mais recentes.\n"
   ]
  },
  {
   "cell_type": "code",
   "execution_count": 8,
   "metadata": {
    "pycharm": {
     "is_executing": false,
     "name": "#%%\n"
    }
   },
   "outputs": [
    {
     "data": {
      "text/plain": "Row(ObservationDate='03/26/2020', Province/State=None, Country/Region='Afghanistan', Last Update='2020-03-26 23:53:24', confirmed=94, deaths=4, recovered=2, last_update=datetime.datetime(2020, 3, 26, 23, 53, 24))"
     },
     "metadata": {},
     "output_type": "execute_result",
     "execution_count": 8
    }
   ],
   "source": [
    "#Obtendo a data mais recente do conjunto de dados\n",
    "from datetime import date, datetime\n",
    "from pyspark.sql.functions import udf,  to_timestamp\n",
    "from pyspark.sql.types import DateType, TimestampType\n",
    "\n",
    "func =  udf (lambda x: datetime.strptime(x, '%Y-%m-%dT%H:%M:%S'), TimestampType())\n",
    "\n",
    "covid_19_data=covid_19_data.withColumn('last_update', to_timestamp('Last Update'))\n",
    "last_date = covid_19_data\\\n",
    "    .select('last_update')\\\n",
    "    .dropna().distinct()\\\n",
    "    .sort('last_update',ascending=False)\\\n",
    "    .head().last_update.date()\n",
    "\n",
    "time_zero = datetime.min.time()\n",
    "recent_datetime = datetime.combine(last_date, time_zero)\n",
    "\n",
    "\n",
    "#filtrando pelos registros mais recentes\n",
    "data_latest = covid_19_data.where(covid_19_data['last_update'] > recent_datetime)\n",
    "data_latest.head()"
   ]
  },
  {
   "cell_type": "markdown",
   "source": [
    "Uma métrica que podemos usar, para verificar o quão mortal é o vírus, é a taxa de mortalidade.\n",
    "Essa taxa é calculada tomando como base a quantidade de mortes e a quantidade de casos confirmados.\n",
    "E ela representa a proporção dos casos com morte em relação ao total de casos."
   ],
   "metadata": {
    "collapsed": false
   }
  },
  {
   "cell_type": "code",
   "execution_count": 9,
   "outputs": [],
   "source": [
    "data_latest = data_latest.withColumn('fatalities_rate',data_latest['deaths']/data_latest['confirmed'])\n",
    "data_latest = data_latest.withColumn('fatalities_rate_percent',(data_latest['deaths']*100)/data_latest['confirmed'])\n",
    "data_latest = data_latest.withColumn('recovery_rate',data_latest['recovered']/data_latest['confirmed'])\n",
    "data_latest = data_latest.withColumn('recovery_rate_percent',(data_latest['recovered']*100)/data_latest['confirmed'])"
   ],
   "metadata": {
    "collapsed": false,
    "pycharm": {
     "name": "#%%\n",
     "is_executing": false
    }
   }
  },
  {
   "cell_type": "markdown",
   "metadata": {
    "pycharm": {
     "name": "#%% md\n"
    }
   },
   "source": [
    "Recentemente o número de países que tem atualizado sua situação pode ser percebida nos registros feitos na última data."
   ]
  },
  {
   "cell_type": "code",
   "execution_count": 10,
   "metadata": {
    "pycharm": {
     "is_executing": false,
     "name": "#%%\n"
    }
   },
   "outputs": [
    {
     "name": "stdout",
     "text": [
      "177\n"
     ],
     "output_type": "stream"
    }
   ],
   "source": [
    "#Criando um dataframe com a quantidade total de casos confirmados para cada país ou região\n",
    "countries = data_latest.select(['Country/Region']).distinct().count()\n",
    "print(countries)"
   ]
  },
  {
   "cell_type": "markdown",
   "metadata": {
    "pycharm": {
     "name": "#%% md\n"
    }
   },
   "source": [
    "Uma vez que possuímos os dados mais recentes podemos agrupar os registros por país.\n",
    "Como cada país pode fazer mais de um registro por dia, iremos pegar apenas os valore máximos para cada quantidade."
   ]
  },
  {
   "cell_type": "code",
   "execution_count": 11,
   "metadata": {
    "pycharm": {
     "is_executing": false,
     "name": "#%%\n"
    }
   },
   "outputs": [],
   "source": [
    "worldwide_cases = data_latest.groupBy('Country/Region')\\\n",
    "                                        .agg({'deaths':'sum',\n",
    "                                              'confirmed':'sum',\n",
    "                                              'recovered':'sum'})\\\n",
    "                                    .withColumnRenamed('sum(confirmed)','confirmed')\\\n",
    "                                    .withColumnRenamed('sum(deaths)','deaths')\\\n",
    "                                    .withColumnRenamed('sum(recovered)','recovered')\n",
    "\n",
    "\n",
    "worldwide_cases = worldwide_cases.withColumn('fatalities_rate',worldwide_cases['deaths']/worldwide_cases['confirmed'])\\\n",
    "                                 .withColumn('fatalities_rate_percent',(worldwide_cases['deaths']*100)/worldwide_cases['confirmed'])\\\n",
    "                                 .withColumn('recovery_rate',worldwide_cases['recovered']/worldwide_cases['confirmed'])\\\n",
    "                                 .withColumn('recovery_rate_percent',(worldwide_cases['recovered']*100)/worldwide_cases['confirmed'])\n",
    "\n",
    "\n",
    "\n",
    "worldwide_cases = worldwide_cases.join(world_population_data, worldwide_cases['Country/Region'] == world_population_data['Country Name'],how='left')\n",
    "\n",
    "worldwide_cases = worldwide_cases.withColumn('population_infection_rate', 100*worldwide_cases['confirmed']/worldwide_cases['2018'])\n",
    "\n"
   ]
  },
  {
   "cell_type": "markdown",
   "metadata": {},
   "source": [
    "Assim temos, ao somar as quantidades uma visão geral dos diferentes casos - confirmados, mortes, recuperados e a taxa média de mortalidade.\n",
    "O número de casos vem crescendo constantemente e recuperados também.\n",
    "A taxa de mortalidade média está em torno de 5%, o que classifica como uma doença não tão letal quando comparada a outras doenças,\n",
    "ver [lista de CFR no wikipedia](https://en.wikipedia.org/wiki/List_of_human_disease_case_fatality_rates).\n",
    "Nessa lista outras doenças que tiveram surto recente no Brasil são mais letais.\n",
    "Entretanto, vale ressaltar que a taxa de mortalidade do covid-19 tem se mostrado diferente conforme a política de tratamento da doença no país.\n",
    "Variando de 0.5% a 10% dependendo do país e sua estratégia no combate ao covid-19 como veremos a seguir."
   ]
  },
  {
   "cell_type": "code",
   "execution_count": 12,
   "outputs": [
    {
     "name": "stdout",
     "text": [
      "+---------+------+---------+-----------------------+---------------------+\n",
      "|confirmed|deaths|recovered|fatalities_rate_percent|recovery_rate_percent|\n",
      "+---------+------+---------+-----------------------+---------------------+\n",
      "|   529591| 23970|   122150|     4.5261343187478635|    23.06496900438263|\n",
      "+---------+------+---------+-----------------------+---------------------+\n",
      "\n"
     ],
     "output_type": "stream"
    }
   ],
   "source": [
    "worldwide_total = worldwide_cases.groupBy().agg({\n",
    "    'confirmed': 'sum',\n",
    "    'deaths': 'sum',\n",
    "    'recovered': 'sum',\n",
    "})    .withColumnRenamed('sum(confirmed)','confirmed')\\\n",
    "    .withColumnRenamed('sum(deaths)','deaths')\\\n",
    "    .withColumnRenamed('sum(recovered)','recovered')\\\n",
    "\n",
    "\n",
    "worldwide_total = worldwide_total.withColumn('fatalities_rate_percent',(worldwide_total['deaths']*100)/worldwide_total['confirmed'])\\\n",
    ".withColumn('recovery_rate_percent',(worldwide_total['recovered']*100)/worldwide_total['confirmed'])\n",
    "\n",
    "\n",
    "worldwide_total.select(['confirmed', 'deaths', 'recovered', 'fatalities_rate_percent', 'recovery_rate_percent']).show()"
   ],
   "metadata": {
    "collapsed": false,
    "pycharm": {
     "name": "#%%\n",
     "is_executing": false
    }
   }
  },
  {
   "cell_type": "markdown",
   "metadata": {
    "pycharm": {
     "name": "#%% md\n"
    }
   },
   "source": [
    "Os vintes países mais atingidos estão listados abaixo. E já notamos que o Brasil está incluso."
   ]
  },
  {
   "cell_type": "code",
   "execution_count": 13,
   "metadata": {
    "pycharm": {
     "is_executing": false,
     "name": "#%%\n"
    }
   },
   "outputs": [
    {
     "name": "stdout",
     "text": [
      "+--------------+---------+---------+------+--------------------+-----------------------+--------------------+---------------------+------------+----------+-------------------------+\n",
      "|Country/Region|recovered|confirmed|deaths|     fatalities_rate|fatalities_rate_percent|       recovery_rate|recovery_rate_percent|Country Name|      2018|population_infection_rate|\n",
      "+--------------+---------+---------+------+--------------------+-----------------------+--------------------+---------------------+------------+----------+-------------------------+\n",
      "|            US|      681|    83836|  1209|0.014421012452884203|     1.4421012452884203|0.008123002051624601|     0.81230020516246|          US| 327167434|     0.025624799808161836|\n",
      "|         China|    74061|    81298|  3287|0.040431498929862975|      4.043149892986297|  0.9109818199709709|     91.0981819970971|       China|1392730000|     0.005837312329022854|\n",
      "|         Italy|    10361|    80589|  8215| 0.10193698891908325|     10.193698891908324| 0.12856593331596122|   12.856593331596123|       Italy|  60431283|      0.13335642733251254|\n",
      "|         Spain|     7015|    57786|  4365| 0.07553732738033433|      7.553732738033434| 0.12139618592738725|   12.139618592738726|       Spain|  46723749|      0.12367586342440115|\n",
      "|       Germany|     5673|    43938|   267|0.006076744503618...|     0.6076744503618735| 0.12911375119486548|    12.91137511948655|     Germany|  82927922|      0.05298336065866934|\n",
      "|        France|     4955|    29551|  1698| 0.05745998443369091|      5.745998443369091|  0.1676762207708707|    16.76762207708707|      France|  66987244|      0.04411436899837229|\n",
      "|          Iran|    10457|    29406|  2234| 0.07597089029449772|      7.597089029449772| 0.35560769910902534|   35.560769910902536|        Iran|  81800269|     0.035948537039652034|\n",
      "|            UK|      150|    11812|   580| 0.04910260751777853|      4.910260751777853|0.012698950220115137|   1.2698950220115137|          UK|  66488991|      0.01776534704820532|\n",
      "|   Switzerland|      131|    11811|   191|0.016171365676064687|     1.6171365676064686|0.011091355516044366|   1.1091355516044366| Switzerland|   8516543|       0.1386830313661306|\n",
      "|   South Korea|     4144|     9241|   131|0.014175954983226923|     1.4175954983226924|  0.4484363164159723|    44.84363164159723| South Korea|  51635256|     0.017896686713434713|\n",
      "|   Netherlands|        6|     7468|   435|  0.0582485270487413|       5.82485270487413|8.034279592929834E-4|  0.08034279592929834| Netherlands|  17231017|     0.043340448216144176|\n",
      "|       Austria|      112|     6909|    49|0.007092198581560...|     0.7092198581560284|0.016210739614994935|   1.6210739614994933|     Austria|   8847037|       0.0780939426386484|\n",
      "|       Belgium|      675|     6235|   220| 0.03528468323977546|     3.5284683239775463|  0.1082598235765838|   10.825982357658381|     Belgium|  11422068|      0.05458731291041167|\n",
      "|        Canada|      184|     4042|    38|0.009401286491835725|     0.9401286491835725|0.045522018802572985|    4.552201880257298|      Canada|  37058856|     0.010906974570396884|\n",
      "|        Turkey|       26|     3629|    75|0.020666850372003307|     2.0666850372003305|0.007164508128961...|   0.7164508128961147|      Turkey|  82319724|     0.004408421000050972|\n",
      "|      Portugal|       43|     3544|    60|0.016930022573363433|      1.693002257336343|0.012133182844243792|   1.2133182844243793|    Portugal|  10281762|     0.034468800192029345|\n",
      "|        Norway|        6|     3369|    14|0.004155535767289997|    0.41555357672899973|0.001780943900267...|  0.17809439002671415|      Norway|   5314336|      0.06339456142780585|\n",
      "|        Brazil|        6|     2985|    77| 0.02579564489112228|      2.579564489112228|0.002010050251256...|  0.20100502512562815|      Brazil| 209469333|     0.001425029600872...|\n",
      "|        Sweden|       16|     2840|    77|0.027112676056338027|      2.711267605633803|0.005633802816901409|   0.5633802816901409|      Sweden|  10183175|     0.027889140665853233|\n",
      "|     Australia|      172|     2810|    13|0.004626334519572953|     0.4626334519572954| 0.06120996441281139|    6.120996441281139|   Australia|  24992369|     0.011243431945166943|\n",
      "+--------------+---------+---------+------+--------------------+-----------------------+--------------------+---------------------+------------+----------+-------------------------+\n",
      "only showing top 20 rows\n",
      "\n"
     ],
     "output_type": "stream"
    }
   ],
   "source": [
    "worldwide_cases = worldwide_cases.sort('confirmed', ascending=False)\n",
    "\n",
    "worldwide_cases.show()"
   ]
  },
  {
   "cell_type": "markdown",
   "metadata": {
    "pycharm": {
     "name": "#%% md\n"
    }
   },
   "source": [
    "#### Regiões e países mais afetados pela doença\n",
    "\n",
    "---"
   ]
  },
  {
   "cell_type": "markdown",
   "metadata": {},
   "source": [
    "##### Regiões e países com o maior número de casos confirmados"
   ]
  },
  {
   "cell_type": "code",
   "execution_count": 14,
   "metadata": {
    "pycharm": {
     "is_executing": false,
     "name": "#%%\n"
    }
   },
   "outputs": [
    {
     "name": "stdout",
     "text": [
      "+--------------+--------------+\n",
      "|Country/Region|sum(confirmed)|\n",
      "+--------------+--------------+\n",
      "|            US|         83836|\n",
      "|         China|         81298|\n",
      "|         Italy|         80589|\n",
      "|         Spain|         57786|\n",
      "|       Germany|         43938|\n",
      "+--------------+--------------+\n",
      "only showing top 5 rows\n",
      "\n"
     ],
     "output_type": "stream"
    }
   ],
   "source": [
    "data_latest.groupBy(['Country/Region'])\\\n",
    "                .agg({'confirmed':'sum'})\\\n",
    "                .sort('sum(confirmed)', ascending=False).show(5)\n"
   ]
  },
  {
   "cell_type": "markdown",
   "metadata": {
    "pycharm": {
     "name": "#%% md\n"
    }
   },
   "source": [
    "##### Regiões e países com o maior número de mortos"
   ]
  },
  {
   "cell_type": "code",
   "execution_count": 15,
   "metadata": {
    "pycharm": {
     "is_executing": false,
     "name": "#%%\n"
    }
   },
   "outputs": [
    {
     "name": "stdout",
     "text": [
      "+--------------+-----------+\n",
      "|Country/Region|sum(deaths)|\n",
      "+--------------+-----------+\n",
      "|         Italy|       8215|\n",
      "|         Spain|       4365|\n",
      "|         China|       3287|\n",
      "|          Iran|       2234|\n",
      "|        France|       1698|\n",
      "+--------------+-----------+\n",
      "only showing top 5 rows\n",
      "\n"
     ],
     "output_type": "stream"
    }
   ],
   "source": [
    "data_latest.groupBy(['Country/Region'])\\\n",
    "                .agg({'deaths':'sum'})\\\n",
    "                .sort('sum(deaths)', ascending=False).show(5)\n"
   ]
  },
  {
   "cell_type": "markdown",
   "metadata": {},
   "source": [
    "##### Regiões e países com o maior número de recuperados"
   ]
  },
  {
   "cell_type": "code",
   "execution_count": 16,
   "metadata": {
    "pycharm": {
     "is_executing": false,
     "name": "#%%\n"
    }
   },
   "outputs": [
    {
     "name": "stdout",
     "text": [
      "+--------------+--------------+\n",
      "|Country/Region|sum(recovered)|\n",
      "+--------------+--------------+\n",
      "|         China|         74061|\n",
      "|          Iran|         10457|\n",
      "|         Italy|         10361|\n",
      "|         Spain|          7015|\n",
      "|       Germany|          5673|\n",
      "+--------------+--------------+\n",
      "only showing top 5 rows\n",
      "\n"
     ],
     "output_type": "stream"
    }
   ],
   "source": [
    "data_latest.groupby('Country/Region')\\\n",
    "    .agg({'recovered':'sum'})\\\n",
    "    .sort('sum(recovered)',ascending=False).show(5)\n"
   ]
  },
  {
   "cell_type": "markdown",
   "metadata": {
    "pycharm": {
     "name": "#%% md\n"
    }
   },
   "source": [
    "Enquanto isso no Brasil, como vimos, já estamos com o quadro bastante avançado. "
   ]
  },
  {
   "cell_type": "code",
   "execution_count": 17,
   "metadata": {
    "pycharm": {
     "is_executing": false,
     "name": "#%%\n"
    }
   },
   "outputs": [
    {
     "name": "stdout",
     "text": [
      "+--------------+---------+---------+------+-------------------+-----------------------+--------------------+---------------------+------------+---------+-------------------------+\n",
      "|Country/Region|recovered|confirmed|deaths|    fatalities_rate|fatalities_rate_percent|       recovery_rate|recovery_rate_percent|Country Name|     2018|population_infection_rate|\n",
      "+--------------+---------+---------+------+-------------------+-----------------------+--------------------+---------------------+------------+---------+-------------------------+\n",
      "|        Brazil|        6|     2985|    77|0.02579564489112228|      2.579564489112228|0.002010050251256...|  0.20100502512562815|      Brazil|209469333|     0.001425029600872...|\n",
      "+--------------+---------+---------+------+-------------------+-----------------------+--------------------+---------------------+------------+---------+-------------------------+\n",
      "\n"
     ],
     "output_type": "stream"
    }
   ],
   "source": [
    "worldwide_cases.where(worldwide_cases['Country/Region'] == 'Brazil').show()"
   ]
  },
  {
   "cell_type": "markdown",
   "metadata": {
    "pycharm": {
     "name": "#%% md\n"
    }
   },
   "source": [
    "### Análise da evolução diária do quadro da doença por países\n",
    "---"
   ]
  },
  {
   "cell_type": "code",
   "execution_count": 18,
   "metadata": {
    "pycharm": {
     "is_executing": false,
     "name": "#%%\n"
    }
   },
   "outputs": [],
   "source": [
    "data_by_days = covid_19_data.withColumn('last_update', covid_19_data['last_update'].cast(DateType()))\n",
    "data_by_days = data_by_days.groupby(['Country/Region', 'last_update'])\\\n",
    "    .sum().sort('last_update')\\\n",
    "    .withColumnRenamed('sum(confirmed)','confirmed')\\\n",
    "    .withColumnRenamed('sum(deaths)','deaths')\\\n",
    "    .withColumnRenamed('sum(recovered)','recovered')"
   ]
  },
  {
   "cell_type": "markdown",
   "metadata": {
    "pycharm": {
     "name": "#%% md\n"
    }
   },
   "source": [
    "Nessa análise iremos exibir um quadro com os últimos 15 dias e gráfico de barras expondo a evolução dos casos."
   ]
  },
  {
   "cell_type": "code",
   "execution_count": 19,
   "metadata": {
    "pycharm": {
     "is_executing": false,
     "name": "#%%\n"
    }
   },
   "outputs": [],
   "source": [
    "\n",
    "def plot_country_data(data, country_name):\n",
    "    data_country = data.where(data['Country/Region']==country_name)\n",
    "\n",
    "    data_country = data_country\\\n",
    "        .select(['last_update', 'confirmed', 'deaths', 'recovered'])\\\n",
    "        .filter(data_country.last_update.isNotNull())\n",
    "\n",
    "    country_pd = data_country.toPandas().set_index('last_update')\n",
    "    country_pd[['diff_confirmed', 'diff_deaths', 'diff_recovered']] = country_pd.diff()\n",
    "    country_pd['fatalities_rate'] = country_pd['deaths']/country_pd['confirmed']\n",
    "    country_pd['fatalities_rate_percent'] = (country_pd['deaths']*100)/country_pd['confirmed']\n",
    "    country_pd['recovery_rate'] = country_pd['recovered']/country_pd['confirmed']\n",
    "    country_pd['recovery_rate_percent'] = (country_pd['recovered']*100)/country_pd['confirmed']\n",
    "\n",
    "    print(country_pd)\n",
    "\n",
    "    country_pd[['confirmed', 'deaths', 'recovered']].plot.bar()"
   ]
  },
  {
   "cell_type": "markdown",
   "source": [
    "A China foi o ponto de origem da doença, principalmente, em torno de Wuhan em Hubei, aonde se encontra o mercado de frutos do mar e animais silvestres.\n",
    "Com o surto massivo desde Dezembro de 2019 e o alerta da Organização Mundial de Saúde, o governo chinês anunciou um estado de quarentena a toda a população.\n",
    "Esse estado de quarentena ditava além de que as pessoas não saiam de casa, o cancelamento de eventos, interrupção de atividades escolares, restrições de viagens, controle do acesso a transporte público e toque de recolher.\n",
    "Isso tem levado a um controle da doença, levando a China a ter vários dias seguidos sem ter nenhum novo caso confirmado da doença [artigo sobre covid19 no wikipedia em inglês](https://en.wikipedia.org/wiki/2019%E2%80%9320_coronavirus_pandemic)."
   ],
   "metadata": {
    "collapsed": false
   }
  },
  {
   "cell_type": "code",
   "execution_count": 20,
   "outputs": [
    {
     "name": "stdout",
     "text": [
      "             confirmed  deaths  recovered  diff_confirmed  diff_deaths  \\\n",
      "last_update                                                              \n",
      "2020-02-01          10       0          0             NaN          NaN   \n",
      "2020-02-02       16606     361        463         16596.0        361.0   \n",
      "2020-02-03       19692     425        614          3086.0         64.0   \n",
      "2020-02-04       23713     490        844          4021.0         65.0   \n",
      "2020-02-05       27436     562       1120          3723.0         72.0   \n",
      "2020-02-06       30562     632       1482          3126.0         70.0   \n",
      "2020-02-07       34056     717       1995          3494.0         85.0   \n",
      "2020-02-08       36759     804       2592          2703.0         87.0   \n",
      "2020-02-09       39890     904       3240          3131.0        100.0   \n",
      "2020-02-10       42226    1011       3894          2336.0        107.0   \n",
      "2020-02-11       44268    1111       4630          2042.0        100.0   \n",
      "2020-02-12       44726    1116       5106           458.0          5.0   \n",
      "2020-02-13       59939    1370       6262         15213.0        254.0   \n",
      "2020-02-14       66183    1518       7922          6244.0        148.0   \n",
      "2020-02-15       68452    1662       9352          2269.0        144.0   \n",
      "2020-02-16       70357    1765      10701          1905.0        103.0   \n",
      "2020-02-17       72345    1863      12441          1988.0         98.0   \n",
      "2020-02-18       74138    2002      14198          1793.0        139.0   \n",
      "2020-02-19       74563    2114      15967           425.0        112.0   \n",
      "2020-02-20       74980    2236      17985           417.0        122.0   \n",
      "2020-02-21       75957    2238      19140           977.0          2.0   \n",
      "2020-02-22       76741    2439      22544           784.0        201.0   \n",
      "2020-02-23       77065    2445      23253           324.0          6.0   \n",
      "2020-02-24       77154    2595      24979            89.0        150.0   \n",
      "2020-02-25       77620    2661      27625           466.0         66.0   \n",
      "2020-02-26       77991    2715      30011           371.0         54.0   \n",
      "2020-02-27       79155    2752      33397          1164.0         37.0   \n",
      "2020-02-28       78421    2784      35979          -734.0         32.0   \n",
      "2020-02-29       79068    2831      39135           647.0         47.0   \n",
      "2020-03-01       79846    2872      42132           778.0         41.0   \n",
      "2020-03-02       80745    2918      45401           899.0         46.0   \n",
      "2020-03-03       80566    2951      47807          -179.0         33.0   \n",
      "2020-03-04       80031    2981      49665          -535.0         30.0   \n",
      "2020-03-05       80683    3022      52609           652.0         41.0   \n",
      "2020-03-06       82188    3046      55521          1505.0         24.0   \n",
      "2020-03-07       80461    3072      55317         -1727.0         26.0   \n",
      "2020-03-08       84987    3162      61516          4526.0         90.0   \n",
      "2020-03-09       76995    3072      55095         -7992.0        -90.0   \n",
      "2020-03-10       77201    3088      56620           206.0         16.0   \n",
      "2020-03-11       97474    3310      78043         20273.0        222.0   \n",
      "2020-03-12       88954    3173      70958         -8520.0       -137.0   \n",
      "2020-03-13       79928    3181      63251         -9026.0          8.0   \n",
      "2020-03-14       94005    3353      78566         14077.0        172.0   \n",
      "2020-03-15       82037    3184      68058        -11968.0       -169.0   \n",
      "2020-03-16       76504    3203      63509         -5533.0         19.0   \n",
      "2020-03-17       75756    3170      63652          -748.0        -33.0   \n",
      "2020-03-18       72854    3177      61722         -2902.0          7.0   \n",
      "2020-03-19       73808    3187      63378           954.0         10.0   \n",
      "2020-03-20       75002    3203      65224          1194.0         16.0   \n",
      "2020-03-21       73311    3175      64145         -1691.0        -28.0   \n",
      "2020-03-23       81116    3270      72709          7805.0         95.0   \n",
      "2020-03-24       81180    3277      73169            64.0          7.0   \n",
      "2020-03-25       81221    3281      73661            41.0          4.0   \n",
      "2020-03-26       81298    3287      74061            77.0          6.0   \n",
      "\n",
      "             diff_recovered  fatalities_rate  fatalities_rate_percent  \\\n",
      "last_update                                                             \n",
      "2020-02-01              NaN         0.000000                 0.000000   \n",
      "2020-02-02            463.0         0.021739                 2.173913   \n",
      "2020-02-03            151.0         0.021582                 2.158237   \n",
      "2020-02-04            230.0         0.020664                 2.066377   \n",
      "2020-02-05            276.0         0.020484                 2.048404   \n",
      "2020-02-06            362.0         0.020679                 2.067927   \n",
      "2020-02-07            513.0         0.021054                 2.105356   \n",
      "2020-02-08            597.0         0.021872                 2.187219   \n",
      "2020-02-09            648.0         0.022662                 2.266232   \n",
      "2020-02-10            654.0         0.023943                 2.394259   \n",
      "2020-02-11            736.0         0.025097                 2.509714   \n",
      "2020-02-12            476.0         0.024952                 2.495193   \n",
      "2020-02-13           1156.0         0.022857                 2.285657   \n",
      "2020-02-14           1660.0         0.022936                 2.293640   \n",
      "2020-02-15           1430.0         0.024280                 2.427979   \n",
      "2020-02-16           1349.0         0.025086                 2.508635   \n",
      "2020-02-17           1740.0         0.025752                 2.575161   \n",
      "2020-02-18           1757.0         0.027004                 2.700370   \n",
      "2020-02-19           1769.0         0.028352                 2.835186   \n",
      "2020-02-20           2018.0         0.029821                 2.982129   \n",
      "2020-02-21           1155.0         0.029464                 2.946404   \n",
      "2020-02-22           3404.0         0.031782                 3.178223   \n",
      "2020-02-23            709.0         0.031726                 3.172646   \n",
      "2020-02-24           1726.0         0.033634                 3.363403   \n",
      "2020-02-25           2646.0         0.034282                 3.428240   \n",
      "2020-02-26           2386.0         0.034812                 3.481171   \n",
      "2020-02-27           3386.0         0.034767                 3.476723   \n",
      "2020-02-28           2582.0         0.035501                 3.550069   \n",
      "2020-02-29           3156.0         0.035805                 3.580462   \n",
      "2020-03-01           2997.0         0.035969                 3.596924   \n",
      "2020-03-02           3269.0         0.036138                 3.613846   \n",
      "2020-03-03           2406.0         0.036628                 3.662835   \n",
      "2020-03-04           1858.0         0.037248                 3.724807   \n",
      "2020-03-05           2944.0         0.037455                 3.745523   \n",
      "2020-03-06           2912.0         0.037061                 3.706137   \n",
      "2020-03-07           -204.0         0.038180                 3.817999   \n",
      "2020-03-08           6199.0         0.037206                 3.720569   \n",
      "2020-03-09          -6421.0         0.039899                 3.989869   \n",
      "2020-03-10           1525.0         0.039999                 3.999948   \n",
      "2020-03-11          21423.0         0.033958                 3.395777   \n",
      "2020-03-12          -7085.0         0.035670                 3.567012   \n",
      "2020-03-13          -7707.0         0.039798                 3.979832   \n",
      "2020-03-14          15315.0         0.035668                 3.566832   \n",
      "2020-03-15         -10508.0         0.038812                 3.881176   \n",
      "2020-03-16          -4549.0         0.041867                 4.186709   \n",
      "2020-03-17            143.0         0.041845                 4.184487   \n",
      "2020-03-18          -1930.0         0.043608                 4.360776   \n",
      "2020-03-19           1656.0         0.043180                 4.317960   \n",
      "2020-03-20           1846.0         0.042706                 4.270553   \n",
      "2020-03-21          -1079.0         0.043309                 4.330864   \n",
      "2020-03-23           8564.0         0.040313                 4.031264   \n",
      "2020-03-24            460.0         0.040367                 4.036709   \n",
      "2020-03-25            492.0         0.040396                 4.039596   \n",
      "2020-03-26            400.0         0.040431                 4.043150   \n",
      "\n",
      "             recovery_rate  recovery_rate_percent  \n",
      "last_update                                        \n",
      "2020-02-01        0.000000               0.000000  \n",
      "2020-02-02        0.027881               2.788149  \n",
      "2020-02-03        0.031180               3.118017  \n",
      "2020-02-04        0.035592               3.559229  \n",
      "2020-02-05        0.040822               4.082228  \n",
      "2020-02-06        0.048492               4.849159  \n",
      "2020-02-07        0.058580               5.857999  \n",
      "2020-02-08        0.070513               7.051334  \n",
      "2020-02-09        0.081223               8.122336  \n",
      "2020-02-10        0.092218               9.221806  \n",
      "2020-02-11        0.104590              10.459022  \n",
      "2020-02-12        0.114162              11.416179  \n",
      "2020-02-13        0.104473              10.447288  \n",
      "2020-02-14        0.119698              11.969841  \n",
      "2020-02-15        0.136621              13.662128  \n",
      "2020-02-16        0.152096              15.209574  \n",
      "2020-02-17        0.171968              17.196765  \n",
      "2020-02-18        0.191508              19.150773  \n",
      "2020-02-19        0.214141              21.414106  \n",
      "2020-02-20        0.239864              23.986396  \n",
      "2020-02-21        0.251985              25.198468  \n",
      "2020-02-22        0.293767              29.376735  \n",
      "2020-02-23        0.301732              30.173230  \n",
      "2020-02-24        0.323755              32.375509  \n",
      "2020-02-25        0.355901              35.590054  \n",
      "2020-02-26        0.384801              38.480081  \n",
      "2020-02-27        0.421919              42.191902  \n",
      "2020-02-28        0.458793              45.879293  \n",
      "2020-02-29        0.494954              49.495371  \n",
      "2020-03-01        0.527666              52.766576  \n",
      "2020-03-02        0.562276              56.227630  \n",
      "2020-03-03        0.593389              59.338927  \n",
      "2020-03-04        0.620572              62.057203  \n",
      "2020-03-05        0.652046              65.204566  \n",
      "2020-03-06        0.675537              67.553657  \n",
      "2020-03-07        0.687501              68.750078  \n",
      "2020-03-08        0.723828              72.382835  \n",
      "2020-03-09        0.715566              71.556595  \n",
      "2020-03-10        0.733410              73.341019  \n",
      "2020-03-11        0.800655              80.065453  \n",
      "2020-03-12        0.797693              79.769319  \n",
      "2020-03-13        0.791350              79.134971  \n",
      "2020-03-14        0.835764              83.576406  \n",
      "2020-03-15        0.829601              82.960128  \n",
      "2020-03-16        0.830140              83.013960  \n",
      "2020-03-17        0.840224              84.022388  \n",
      "2020-03-18        0.847201              84.720125  \n",
      "2020-03-19        0.858687              85.868741  \n",
      "2020-03-20        0.869630              86.963014  \n",
      "2020-03-21        0.874971              87.497101  \n",
      "2020-03-23        0.896358              89.635830  \n",
      "2020-03-24        0.901318              90.131806  \n",
      "2020-03-25        0.906921              90.692062  \n",
      "2020-03-26        0.910982              91.098182  \n"
     ],
     "output_type": "stream"
    },
    {
     "data": {
      "text/plain": "<Figure size 432x288 with 1 Axes>",
      "image/png": "[encoded data removed]"
     },
     "metadata": {
      "needs_background": "light"
     },
     "output_type": "display_data"
    }
   ],
   "source": [
    "plot_country_data(data_by_days, \"China\")"
   ],
   "metadata": {
    "collapsed": false,
    "pycharm": {
     "name": "#%%\n",
     "is_executing": false
    }
   }
  },
  {
   "cell_type": "markdown",
   "metadata": {
    "pycharm": {
     "name": "#%% md\n"
    }
   },
   "source": [
    "A Itália recentemente superou a China na quantidade de casos confirmados assim como a quantidade de mortes, conforme vemos nessa [notícia no G1](https://g1.globo.com/bemestar/coronavirus/noticia/2020/03/19/numero-de-mortos-na-italia-por-covid-19-ultrapassa-total-de-vitimas-na-china.ghtml).\n",
    "O caso na Itália infelizmente atingiu níveis alarmentes, uma vez que o volume supera a capacidade do sistema de saúde no país.\n",
    "Devido a isso práticas polêmicas tem sido adotadas como a decisão de Sofia, em que os médicos podem decidir por não atender algum caso se perceberem que este possa não se recuperar, conforme a [notícia no portal da Terra](https://www.terra.com.br/noticias/mundo/coronavirus-medicos-podem-ter-de-fazer-escolha-de-sofia-por-quem-vai-viver-na-italia,6c45f42b7176055464c273a25d3caa615top54fk.html)."
   ]
  },
  {
   "cell_type": "code",
   "execution_count": 21,
   "metadata": {
    "pycharm": {
     "is_executing": false,
     "name": "#%%\n"
    }
   },
   "outputs": [
    {
     "name": "stdout",
     "text": [
      "             confirmed  deaths  recovered  diff_confirmed  diff_deaths  \\\n",
      "last_update                                                              \n",
      "2020-01-31          10       0          0             NaN          NaN   \n",
      "2020-02-07          42       0          0            32.0          0.0   \n",
      "2020-02-21          20       1          0           -22.0          1.0   \n",
      "2020-02-22          62       2          1            42.0          1.0   \n",
      "2020-02-23         155       3          2            93.0          1.0   \n",
      "2020-02-24         229       7          1            74.0          4.0   \n",
      "2020-02-25         322      10          1            93.0          3.0   \n",
      "2020-02-26         453      12          3           131.0          2.0   \n",
      "2020-02-27         655      17         45           202.0          5.0   \n",
      "2020-02-28         888      21         46           233.0          4.0   \n",
      "2020-02-29        1128      29         46           240.0          8.0   \n",
      "2020-03-01        1694      34         83           566.0          5.0   \n",
      "2020-03-02        2036      52        149           342.0         18.0   \n",
      "2020-03-03        2502      79        160           466.0         27.0   \n",
      "2020-03-04        3089     107        276           587.0         28.0   \n",
      "2020-03-05        3858     148        414           769.0         41.0   \n",
      "2020-03-06        4636     197        523           778.0         49.0   \n",
      "2020-03-07        5883     233        589          1247.0         36.0   \n",
      "2020-03-08        7375     366        622          1492.0        133.0   \n",
      "2020-03-09        9172     463        724          1797.0         97.0   \n",
      "2020-03-10       10149     631        724           977.0        168.0   \n",
      "2020-03-11       42584    2920       3529         32435.0       2289.0   \n",
      "2020-03-14       45904    3250       4301          3320.0        330.0   \n",
      "2020-03-16       27980    2158       2749        -17924.0      -1092.0   \n",
      "2020-03-17       31506    2503       2941          3526.0        345.0   \n",
      "2020-03-18       35713    2978       4025          4207.0        475.0   \n",
      "2020-03-19       41035    3405       4440          5322.0        427.0   \n",
      "2020-03-20       47021    4032       4440          5986.0        627.0   \n",
      "2020-03-21       53578    4825       6072          6557.0        793.0   \n",
      "2020-03-23       63927    6077       7432         10349.0       1252.0   \n",
      "2020-03-24       69176    6820       8326          5249.0        743.0   \n",
      "2020-03-25       74386    7503       9362          5210.0        683.0   \n",
      "2020-03-26       80589    8215      10361          6203.0        712.0   \n",
      "\n",
      "             diff_recovered  fatalities_rate  fatalities_rate_percent  \\\n",
      "last_update                                                             \n",
      "2020-01-31              NaN         0.000000                 0.000000   \n",
      "2020-02-07              0.0         0.000000                 0.000000   \n",
      "2020-02-21              0.0         0.050000                 5.000000   \n",
      "2020-02-22              1.0         0.032258                 3.225806   \n",
      "2020-02-23              1.0         0.019355                 1.935484   \n",
      "2020-02-24             -1.0         0.030568                 3.056769   \n",
      "2020-02-25              0.0         0.031056                 3.105590   \n",
      "2020-02-26              2.0         0.026490                 2.649007   \n",
      "2020-02-27             42.0         0.025954                 2.595420   \n",
      "2020-02-28              1.0         0.023649                 2.364865   \n",
      "2020-02-29              0.0         0.025709                 2.570922   \n",
      "2020-03-01             37.0         0.020071                 2.007084   \n",
      "2020-03-02             66.0         0.025540                 2.554028   \n",
      "2020-03-03             11.0         0.031575                 3.157474   \n",
      "2020-03-04            116.0         0.034639                 3.463904   \n",
      "2020-03-05            138.0         0.038362                 3.836185   \n",
      "2020-03-06            109.0         0.042494                 4.249353   \n",
      "2020-03-07             66.0         0.039606                 3.960564   \n",
      "2020-03-08             33.0         0.049627                 4.962712   \n",
      "2020-03-09            102.0         0.050480                 5.047972   \n",
      "2020-03-10              0.0         0.062174                 6.217361   \n",
      "2020-03-11           2805.0         0.068570                 6.857036   \n",
      "2020-03-14            772.0         0.070800                 7.079993   \n",
      "2020-03-16          -1552.0         0.077127                 7.712652   \n",
      "2020-03-17            192.0         0.079445                 7.944519   \n",
      "2020-03-18           1084.0         0.083387                 8.338700   \n",
      "2020-03-19            415.0         0.082978                 8.297795   \n",
      "2020-03-20              0.0         0.085749                 8.574892   \n",
      "2020-03-21           1632.0         0.090056                 9.005562   \n",
      "2020-03-23           1360.0         0.095062                 9.506155   \n",
      "2020-03-24            894.0         0.098589                 9.858911   \n",
      "2020-03-25           1036.0         0.100866                10.086575   \n",
      "2020-03-26            999.0         0.101937                10.193699   \n",
      "\n",
      "             recovery_rate  recovery_rate_percent  \n",
      "last_update                                        \n",
      "2020-01-31        0.000000               0.000000  \n",
      "2020-02-07        0.000000               0.000000  \n",
      "2020-02-21        0.000000               0.000000  \n",
      "2020-02-22        0.016129               1.612903  \n",
      "2020-02-23        0.012903               1.290323  \n",
      "2020-02-24        0.004367               0.436681  \n",
      "2020-02-25        0.003106               0.310559  \n",
      "2020-02-26        0.006623               0.662252  \n",
      "2020-02-27        0.068702               6.870229  \n",
      "2020-02-28        0.051802               5.180180  \n",
      "2020-02-29        0.040780               4.078014  \n",
      "2020-03-01        0.048996               4.899646  \n",
      "2020-03-02        0.073183               7.318271  \n",
      "2020-03-03        0.063949               6.394884  \n",
      "2020-03-04        0.089349               8.934930  \n",
      "2020-03-05        0.107309              10.730949  \n",
      "2020-03-06        0.112813              11.281277  \n",
      "2020-03-07        0.100119              10.011899  \n",
      "2020-03-08        0.084339               8.433898  \n",
      "2020-03-09        0.078936               7.893589  \n",
      "2020-03-10        0.071337               7.133708  \n",
      "2020-03-11        0.082872               8.287150  \n",
      "2020-03-14        0.093696               9.369554  \n",
      "2020-03-16        0.098249               9.824875  \n",
      "2020-03-17        0.093347               9.334730  \n",
      "2020-03-18        0.112704              11.270406  \n",
      "2020-03-19        0.108200              10.820032  \n",
      "2020-03-20        0.094426               9.442589  \n",
      "2020-03-21        0.113330              11.333010  \n",
      "2020-03-23        0.116258              11.625761  \n",
      "2020-03-24        0.120360              12.035966  \n",
      "2020-03-25        0.125857              12.585702  \n",
      "2020-03-26        0.128566              12.856593  \n"
     ],
     "output_type": "stream"
    },
    {
     "data": {
      "text/plain": "<Figure size 432x288 with 1 Axes>",
      "image/png": "[encoded data removed]"
     },
     "metadata": {
      "needs_background": "light"
     },
     "output_type": "display_data"
    }
   ],
   "source": [
    "plot_country_data(data_by_days, \"Italy\")"
   ]
  },
  {
   "cell_type": "markdown",
   "source": [
    "O Irã determinou quarentena obrigando o fechamento de comércios, exceto de conveniências e fármacias.\n",
    "Existe uma falta de máscaras para proteção da população e de profissionais de saúde de acordo\n",
    "[the star](https://www.thestar.com.my/news/regional/2020/03/22/iran-shuts-down-commercial-centres-in-tehran-amid-covid-19-outbreak).\n",
    "O governo tem argumentado que devido a política externa delicada com os Estados Unidos tem dificultado o combate ao vírus no país conforme \n",
    "[r7](https://noticias.r7.com/internacional/ira-acusa-eua-de-dificultarem-providencias-contra-o-coronavirus-21032020).\n"
   ],
   "metadata": {
    "collapsed": false,
    "pycharm": {
     "name": "#%% md\n"
    }
   }
  },
  {
   "cell_type": "code",
   "execution_count": 22,
   "metadata": {
    "pycharm": {
     "is_executing": false,
     "name": "#%%\n"
    }
   },
   "outputs": [
    {
     "name": "stdout",
     "text": [
      "             confirmed  deaths  recovered  diff_confirmed  diff_deaths  \\\n",
      "last_update                                                              \n",
      "2020-02-19           2       2          0             NaN          NaN   \n",
      "2020-02-20           5       2          0             3.0          0.0   \n",
      "2020-02-21          18       4          0            13.0          2.0   \n",
      "2020-02-22          28       5          0            10.0          1.0   \n",
      "2020-02-23          43       8          0            15.0          3.0   \n",
      "2020-02-24          61      12          0            18.0          4.0   \n",
      "2020-02-25          95      16          0            34.0          4.0   \n",
      "2020-02-26         139      19         49            44.0          3.0   \n",
      "2020-02-27         245      26         49           106.0          7.0   \n",
      "2020-02-28         388      34         73           143.0          8.0   \n",
      "2020-02-29         593      43        123           205.0          9.0   \n",
      "2020-03-01         978      54        175           385.0         11.0   \n",
      "2020-03-02        1501      66        291           523.0         12.0   \n",
      "2020-03-03        2336      77        291           835.0         11.0   \n",
      "2020-03-04        2922      92        552           586.0         15.0   \n",
      "2020-03-05        3513     107        739           591.0         15.0   \n",
      "2020-03-06        4747     124        913          1234.0         17.0   \n",
      "2020-03-07        5823     145       1669          1076.0         21.0   \n",
      "2020-03-08        6566     194       2134           743.0         49.0   \n",
      "2020-03-09        7161     237       2394           595.0         43.0   \n",
      "2020-03-10        8042     291       2731           881.0         54.0   \n",
      "2020-03-11       20364     868       5918         12322.0        577.0   \n",
      "2020-03-12       10075     429       2959        -10289.0       -439.0   \n",
      "2020-03-14       12729     611       2959          2654.0        182.0   \n",
      "2020-03-15       13938     724       4590          1209.0        113.0   \n",
      "2020-03-16       14991     853       4590          1053.0        129.0   \n",
      "2020-03-17       16169     988       5389          1178.0        135.0   \n",
      "2020-03-18       17361    1135       5389          1192.0        147.0   \n",
      "2020-03-19       18407    1284       5710          1046.0        149.0   \n",
      "2020-03-20       19644    1433       6745          1237.0        149.0   \n",
      "2020-03-21       20610    1556       7635           966.0        123.0   \n",
      "2020-03-23       23049    1812       8376          2439.0        256.0   \n",
      "2020-03-24       24811    1934       8913          1762.0        122.0   \n",
      "2020-03-25       27017    2077       9625          2206.0        143.0   \n",
      "2020-03-26       29406    2234      10457          2389.0        157.0   \n",
      "\n",
      "             diff_recovered  fatalities_rate  fatalities_rate_percent  \\\n",
      "last_update                                                             \n",
      "2020-02-19              NaN         1.000000               100.000000   \n",
      "2020-02-20              0.0         0.400000                40.000000   \n",
      "2020-02-21              0.0         0.222222                22.222222   \n",
      "2020-02-22              0.0         0.178571                17.857143   \n",
      "2020-02-23              0.0         0.186047                18.604651   \n",
      "2020-02-24              0.0         0.196721                19.672131   \n",
      "2020-02-25              0.0         0.168421                16.842105   \n",
      "2020-02-26             49.0         0.136691                13.669065   \n",
      "2020-02-27              0.0         0.106122                10.612245   \n",
      "2020-02-28             24.0         0.087629                 8.762887   \n",
      "2020-02-29             50.0         0.072513                 7.251265   \n",
      "2020-03-01             52.0         0.055215                 5.521472   \n",
      "2020-03-02            116.0         0.043971                 4.397069   \n",
      "2020-03-03              0.0         0.032962                 3.296233   \n",
      "2020-03-04            261.0         0.031485                 3.148528   \n",
      "2020-03-05            187.0         0.030458                 3.045830   \n",
      "2020-03-06            174.0         0.026122                 2.612176   \n",
      "2020-03-07            756.0         0.024901                 2.490125   \n",
      "2020-03-08            465.0         0.029546                 2.954615   \n",
      "2020-03-09            260.0         0.033096                 3.309594   \n",
      "2020-03-10            337.0         0.036185                 3.618503   \n",
      "2020-03-11           3187.0         0.042624                 4.262424   \n",
      "2020-03-12          -2959.0         0.042581                 4.258065   \n",
      "2020-03-14              0.0         0.048001                 4.800063   \n",
      "2020-03-15           1631.0         0.051944                 5.194432   \n",
      "2020-03-16              0.0         0.056901                 5.690081   \n",
      "2020-03-17            799.0         0.061105                 6.110458   \n",
      "2020-03-18              0.0         0.065376                 6.537642   \n",
      "2020-03-19            321.0         0.069756                 6.975607   \n",
      "2020-03-20           1035.0         0.072948                 7.294848   \n",
      "2020-03-21            890.0         0.075497                 7.549733   \n",
      "2020-03-23            741.0         0.078615                 7.861512   \n",
      "2020-03-24            537.0         0.077949                 7.794930   \n",
      "2020-03-25            712.0         0.076878                 7.687752   \n",
      "2020-03-26            832.0         0.075971                 7.597089   \n",
      "\n",
      "             recovery_rate  recovery_rate_percent  \n",
      "last_update                                        \n",
      "2020-02-19        0.000000               0.000000  \n",
      "2020-02-20        0.000000               0.000000  \n",
      "2020-02-21        0.000000               0.000000  \n",
      "2020-02-22        0.000000               0.000000  \n",
      "2020-02-23        0.000000               0.000000  \n",
      "2020-02-24        0.000000               0.000000  \n",
      "2020-02-25        0.000000               0.000000  \n",
      "2020-02-26        0.352518              35.251799  \n",
      "2020-02-27        0.200000              20.000000  \n",
      "2020-02-28        0.188144              18.814433  \n",
      "2020-02-29        0.207420              20.741990  \n",
      "2020-03-01        0.178937              17.893661  \n",
      "2020-03-02        0.193871              19.387075  \n",
      "2020-03-03        0.124572              12.457192  \n",
      "2020-03-04        0.188912              18.891170  \n",
      "2020-03-05        0.210362              21.036151  \n",
      "2020-03-06        0.192332              19.233200  \n",
      "2020-03-07        0.286622              28.662202  \n",
      "2020-03-08        0.325008              32.500761  \n",
      "2020-03-09        0.334311              33.431085  \n",
      "2020-03-10        0.339592              33.959214  \n",
      "2020-03-11        0.290611              29.061088  \n",
      "2020-03-12        0.293697              29.369727  \n",
      "2020-03-14        0.232461              23.246131  \n",
      "2020-03-15        0.329316              32.931554  \n",
      "2020-03-16        0.306184              30.618371  \n",
      "2020-03-17        0.333292              33.329210  \n",
      "2020-03-18        0.310408              31.040839  \n",
      "2020-03-19        0.310208              31.020807  \n",
      "2020-03-20        0.343362              34.336184  \n",
      "2020-03-21        0.370451              37.045124  \n",
      "2020-03-23        0.363400              36.339971  \n",
      "2020-03-24        0.359236              35.923582  \n",
      "2020-03-25        0.356257              35.625717  \n",
      "2020-03-26        0.355608              35.560770  \n"
     ],
     "output_type": "stream"
    },
    {
     "data": {
      "text/plain": "<Figure size 432x288 with 1 Axes>",
      "image/png": "[encoded data removed]"
     },
     "metadata": {
      "needs_background": "light"
     },
     "output_type": "display_data"
    }
   ],
   "source": [
    "plot_country_data(data_by_days, \"Iran\")"
   ]
  },
  {
   "cell_type": "markdown",
   "source": [
    "A Espanha iniciou com uma estratégia de apenas testar os casos mais graves da doença.\n",
    "E agora, que o número de mortos já passa de 1300, resolveu passar para a abordagem de testar o maior número de pessoas,\n",
    "intensificar a quarentena (para que as pessoas não saiam de casa) e converter hóteis em hospitais [O Globo](https://oglobo.globo.com/mundo/perto-de-colapso-governo-da-espanha-muda-estrategia-apos-superlotacao-de-utis-24321122)."
   ],
   "metadata": {
    "collapsed": false,
    "pycharm": {
     "name": "#%% md\n"
    }
   }
  },
  {
   "cell_type": "code",
   "execution_count": 23,
   "metadata": {
    "pycharm": {
     "is_executing": false,
     "name": "#%%\n"
    }
   },
   "outputs": [
    {
     "name": "stdout",
     "text": [
      "             confirmed  deaths  recovered  diff_confirmed  diff_deaths  \\\n",
      "last_update                                                              \n",
      "2020-02-01           7       0          0             NaN          NaN   \n",
      "2020-02-09          12       0          0             5.0          0.0   \n",
      "2020-02-15          20       0         20             8.0          0.0   \n",
      "2020-02-25           6       0          2           -14.0          0.0   \n",
      "2020-02-26          13       0          2             7.0          0.0   \n",
      "2020-02-27          15       0          2             2.0          0.0   \n",
      "2020-02-28          32       0          2            17.0          0.0   \n",
      "2020-02-29          45       0          2            13.0          0.0   \n",
      "2020-03-01          84       0          2            39.0          0.0   \n",
      "2020-03-02         120       0          2            36.0          0.0   \n",
      "2020-03-03         165       1          2            45.0          1.0   \n",
      "2020-03-04         222       2          2            57.0          1.0   \n",
      "2020-03-05         259       3          2            37.0          1.0   \n",
      "2020-03-06         400       5          2           141.0          2.0   \n",
      "2020-03-07         500      10         30           100.0          5.0   \n",
      "2020-03-08         673      17         30           173.0          7.0   \n",
      "2020-03-09        1073      28         32           400.0         11.0   \n",
      "2020-03-10        1695      35         32           622.0          7.0   \n",
      "2020-03-11        7509     187        376          5814.0        152.0   \n",
      "2020-03-12        2277      55        183         -5232.0       -132.0   \n",
      "2020-03-14        6391     195        517          4114.0        140.0   \n",
      "2020-03-15        7798     289        517          1407.0         94.0   \n",
      "2020-03-16        9942     342        530          2144.0         53.0   \n",
      "2020-03-17       11748     533       1028          1806.0        191.0   \n",
      "2020-03-18       13910     623       1081          2162.0         90.0   \n",
      "2020-03-19       17963     830       1107          4053.0        207.0   \n",
      "2020-03-20       20410    1043       1588          2447.0        213.0   \n",
      "2020-03-21       25374    1375       2125          4964.0        332.0   \n",
      "2020-03-23       35136    2311       3355          9762.0        936.0   \n",
      "2020-03-24       39885    2808       3794          4749.0        497.0   \n",
      "2020-03-25       49515    3647       5367          9630.0        839.0   \n",
      "2020-03-26       57786    4365       7015          8271.0        718.0   \n",
      "\n",
      "             diff_recovered  fatalities_rate  fatalities_rate_percent  \\\n",
      "last_update                                                             \n",
      "2020-02-01              NaN         0.000000                 0.000000   \n",
      "2020-02-09              0.0         0.000000                 0.000000   \n",
      "2020-02-15             20.0         0.000000                 0.000000   \n",
      "2020-02-25            -18.0         0.000000                 0.000000   \n",
      "2020-02-26              0.0         0.000000                 0.000000   \n",
      "2020-02-27              0.0         0.000000                 0.000000   \n",
      "2020-02-28              0.0         0.000000                 0.000000   \n",
      "2020-02-29              0.0         0.000000                 0.000000   \n",
      "2020-03-01              0.0         0.000000                 0.000000   \n",
      "2020-03-02              0.0         0.000000                 0.000000   \n",
      "2020-03-03              0.0         0.006061                 0.606061   \n",
      "2020-03-04              0.0         0.009009                 0.900901   \n",
      "2020-03-05              0.0         0.011583                 1.158301   \n",
      "2020-03-06              0.0         0.012500                 1.250000   \n",
      "2020-03-07             28.0         0.020000                 2.000000   \n",
      "2020-03-08              0.0         0.025260                 2.526003   \n",
      "2020-03-09              2.0         0.026095                 2.609506   \n",
      "2020-03-10              0.0         0.020649                 2.064897   \n",
      "2020-03-11            344.0         0.024903                 2.490345   \n",
      "2020-03-12           -193.0         0.024155                 2.415459   \n",
      "2020-03-14            334.0         0.030512                 3.051166   \n",
      "2020-03-15              0.0         0.037061                 3.706078   \n",
      "2020-03-16             13.0         0.034400                 3.439952   \n",
      "2020-03-17            498.0         0.045369                 4.536942   \n",
      "2020-03-18             53.0         0.044788                 4.478792   \n",
      "2020-03-19             26.0         0.046206                 4.620609   \n",
      "2020-03-20            481.0         0.051102                 5.110240   \n",
      "2020-03-21            537.0         0.054189                 5.418933   \n",
      "2020-03-23           1230.0         0.065773                 6.577300   \n",
      "2020-03-24            439.0         0.070402                 7.040241   \n",
      "2020-03-25           1573.0         0.073654                 7.365445   \n",
      "2020-03-26           1648.0         0.075537                 7.553733   \n",
      "\n",
      "             recovery_rate  recovery_rate_percent  \n",
      "last_update                                        \n",
      "2020-02-01        0.000000               0.000000  \n",
      "2020-02-09        0.000000               0.000000  \n",
      "2020-02-15        1.000000             100.000000  \n",
      "2020-02-25        0.333333              33.333333  \n",
      "2020-02-26        0.153846              15.384615  \n",
      "2020-02-27        0.133333              13.333333  \n",
      "2020-02-28        0.062500               6.250000  \n",
      "2020-02-29        0.044444               4.444444  \n",
      "2020-03-01        0.023810               2.380952  \n",
      "2020-03-02        0.016667               1.666667  \n",
      "2020-03-03        0.012121               1.212121  \n",
      "2020-03-04        0.009009               0.900901  \n",
      "2020-03-05        0.007722               0.772201  \n",
      "2020-03-06        0.005000               0.500000  \n",
      "2020-03-07        0.060000               6.000000  \n",
      "2020-03-08        0.044577               4.457652  \n",
      "2020-03-09        0.029823               2.982293  \n",
      "2020-03-10        0.018879               1.887906  \n",
      "2020-03-11        0.050073               5.007325  \n",
      "2020-03-12        0.080369               8.036891  \n",
      "2020-03-14        0.080895               8.089501  \n",
      "2020-03-15        0.066299               6.629905  \n",
      "2020-03-16        0.053309               5.330919  \n",
      "2020-03-17        0.087504               8.750426  \n",
      "2020-03-18        0.077714               7.771387  \n",
      "2020-03-19        0.061627               6.162668  \n",
      "2020-03-20        0.077805               7.780500  \n",
      "2020-03-21        0.083747               8.374714  \n",
      "2020-03-23        0.095486               9.548611  \n",
      "2020-03-24        0.095123               9.512348  \n",
      "2020-03-25        0.108391              10.839140  \n",
      "2020-03-26        0.121396              12.139619  \n"
     ],
     "output_type": "stream"
    },
    {
     "data": {
      "text/plain": "<Figure size 432x288 with 1 Axes>",
      "image/png": "[encoded data removed]"
     },
     "metadata": {
      "needs_background": "light"
     },
     "output_type": "display_data"
    }
   ],
   "source": [
    "plot_country_data(data_by_days, \"Spain\")"
   ]
  },
  {
   "cell_type": "markdown",
   "source": [
    "De acordo com a reportagem do [site rfi](http://www.rfi.fr/br/fran%C3%A7a/20200322-covid-19-profissionais-de-sa%C3%BAde-da-fran%C3%A7a-criticam-escassez-de-testes-e-desrespeito-), vemos que a França inicialmente adotou medidas leves de confinamento e a quantidade de testes tem sido limitada.\n",
    "Com isso, vemos um avanço forte da doença no país passando do número de 20 mil casos e mil mortos."
   ],
   "metadata": {
    "collapsed": false
   }
  },
  {
   "cell_type": "code",
   "execution_count": 24,
   "outputs": [
    {
     "name": "stdout",
     "text": [
      "             confirmed  deaths  recovered  diff_confirmed  diff_deaths  \\\n",
      "last_update                                                              \n",
      "2020-02-01          36       0          0             NaN          NaN   \n",
      "2020-02-08          44       0          0             8.0          0.0   \n",
      "2020-02-12          33       0          6           -11.0          0.0   \n",
      "2020-02-15         120      10         40            87.0         10.0   \n",
      "2020-02-25          14       1         11          -106.0         -9.0   \n",
      "2020-02-26          18       2         11             4.0          1.0   \n",
      "2020-02-27          38       2         11            20.0          0.0   \n",
      "2020-02-28          57       2         11            19.0          0.0   \n",
      "2020-02-29         100       2         12            43.0          0.0   \n",
      "2020-03-01         130       2         12            30.0          0.0   \n",
      "2020-03-02         191       3         12            61.0          1.0   \n",
      "2020-03-03         204       4         12            13.0          1.0   \n",
      "2020-03-04         285       4         12            81.0          0.0   \n",
      "2020-03-05         377       6         12            92.0          2.0   \n",
      "2020-03-06         653       9         12           276.0          3.0   \n",
      "2020-03-07         949      11         12           296.0          2.0   \n",
      "2020-03-08        1126      19         12           177.0          8.0   \n",
      "2020-03-09        1209      19         12            83.0          0.0   \n",
      "2020-03-10        1784      33         12           575.0         14.0   \n",
      "2020-03-11        8235     175         36          6451.0        142.0   \n",
      "2020-03-14        4488      91         12         -3747.0        -84.0   \n",
      "2020-03-15        4518      91         12            30.0          0.0   \n",
      "2020-03-16        6661     148         12          2143.0         57.0   \n",
      "2020-03-17        7674     148         12          1013.0          0.0   \n",
      "2020-03-18        9046     148         12          1372.0          0.0   \n",
      "2020-03-19       10893     243         12          1847.0         95.0   \n",
      "2020-03-20       12623     450         12          1730.0        207.0   \n",
      "2020-03-21       14301     562         12          1678.0        112.0   \n",
      "2020-03-23       20123     862       2207          5822.0        300.0   \n",
      "2020-03-24       22622    1102       3288          2499.0        240.0   \n",
      "2020-03-25       25600    1333       3907          2978.0        231.0   \n",
      "2020-03-26       29551    1698       4955          3951.0        365.0   \n",
      "\n",
      "             diff_recovered  fatalities_rate  fatalities_rate_percent  \\\n",
      "last_update                                                             \n",
      "2020-02-01              NaN         0.000000                 0.000000   \n",
      "2020-02-08              0.0         0.000000                 0.000000   \n",
      "2020-02-12              6.0         0.000000                 0.000000   \n",
      "2020-02-15             34.0         0.083333                 8.333333   \n",
      "2020-02-25            -29.0         0.071429                 7.142857   \n",
      "2020-02-26              0.0         0.111111                11.111111   \n",
      "2020-02-27              0.0         0.052632                 5.263158   \n",
      "2020-02-28              0.0         0.035088                 3.508772   \n",
      "2020-02-29              1.0         0.020000                 2.000000   \n",
      "2020-03-01              0.0         0.015385                 1.538462   \n",
      "2020-03-02              0.0         0.015707                 1.570681   \n",
      "2020-03-03              0.0         0.019608                 1.960784   \n",
      "2020-03-04              0.0         0.014035                 1.403509   \n",
      "2020-03-05              0.0         0.015915                 1.591512   \n",
      "2020-03-06              0.0         0.013783                 1.378254   \n",
      "2020-03-07              0.0         0.011591                 1.159115   \n",
      "2020-03-08              0.0         0.016874                 1.687389   \n",
      "2020-03-09              0.0         0.015715                 1.571547   \n",
      "2020-03-10              0.0         0.018498                 1.849776   \n",
      "2020-03-11             24.0         0.021251                 2.125076   \n",
      "2020-03-14            -24.0         0.020276                 2.027629   \n",
      "2020-03-15              0.0         0.020142                 2.014166   \n",
      "2020-03-16              0.0         0.022219                 2.221889   \n",
      "2020-03-17              0.0         0.019286                 1.928590   \n",
      "2020-03-18              0.0         0.016361                 1.636082   \n",
      "2020-03-19              0.0         0.022308                 2.230790   \n",
      "2020-03-20              0.0         0.035649                 3.564921   \n",
      "2020-03-21              0.0         0.039298                 3.929795   \n",
      "2020-03-23           2195.0         0.042837                 4.283656   \n",
      "2020-03-24           1081.0         0.048714                 4.871364   \n",
      "2020-03-25            619.0         0.052070                 5.207031   \n",
      "2020-03-26           1048.0         0.057460                 5.745998   \n",
      "\n",
      "             recovery_rate  recovery_rate_percent  \n",
      "last_update                                        \n",
      "2020-02-01        0.000000               0.000000  \n",
      "2020-02-08        0.000000               0.000000  \n",
      "2020-02-12        0.181818              18.181818  \n",
      "2020-02-15        0.333333              33.333333  \n",
      "2020-02-25        0.785714              78.571429  \n",
      "2020-02-26        0.611111              61.111111  \n",
      "2020-02-27        0.289474              28.947368  \n",
      "2020-02-28        0.192982              19.298246  \n",
      "2020-02-29        0.120000              12.000000  \n",
      "2020-03-01        0.092308               9.230769  \n",
      "2020-03-02        0.062827               6.282723  \n",
      "2020-03-03        0.058824               5.882353  \n",
      "2020-03-04        0.042105               4.210526  \n",
      "2020-03-05        0.031830               3.183024  \n",
      "2020-03-06        0.018377               1.837672  \n",
      "2020-03-07        0.012645               1.264489  \n",
      "2020-03-08        0.010657               1.065719  \n",
      "2020-03-09        0.009926               0.992556  \n",
      "2020-03-10        0.006726               0.672646  \n",
      "2020-03-11        0.004372               0.437158  \n",
      "2020-03-14        0.002674               0.267380  \n",
      "2020-03-15        0.002656               0.265604  \n",
      "2020-03-16        0.001802               0.180153  \n",
      "2020-03-17        0.001564               0.156372  \n",
      "2020-03-18        0.001327               0.132655  \n",
      "2020-03-19        0.001102               0.110162  \n",
      "2020-03-20        0.000951               0.095065  \n",
      "2020-03-21        0.000839               0.083910  \n",
      "2020-03-23        0.109675              10.967550  \n",
      "2020-03-24        0.145345              14.534524  \n",
      "2020-03-25        0.152617              15.261719  \n",
      "2020-03-26        0.167676              16.767622  \n"
     ],
     "output_type": "stream"
    },
    {
     "data": {
      "text/plain": "<Figure size 432x288 with 1 Axes>",
      "image/png": "[encoded data removed]"
     },
     "metadata": {
      "needs_background": "light"
     },
     "output_type": "display_data"
    }
   ],
   "source": [
    "plot_country_data(data_by_days, \"France\")"
   ],
   "metadata": {
    "collapsed": false,
    "pycharm": {
     "name": "#%%\n",
     "is_executing": false
    }
   }
  },
  {
   "cell_type": "markdown",
   "metadata": {},
   "source": [
    "A Coreia do Sul tem um número de casos confirmados grande também mas a quantidade de recuperados já está bastante alta.\n",
    "Enquanto que o número de mortos parece estar controlado. O país tem adotado a estratégia de testar em massa a população contra o vírus e imediatamente isolar aqueles que testarem positivo, conforme [notícia da SuperInteressante](https://super.abril.com.br/saude/a-estrategia-de-sucesso-da-coreia-do-sul-contra-a-covid-19-testes-em-massa/)."
   ]
  },
  {
   "cell_type": "code",
   "execution_count": 25,
   "metadata": {
    "pycharm": {
     "is_executing": false,
     "name": "#%%\n"
    }
   },
   "outputs": [
    {
     "name": "stdout",
     "text": [
      "             confirmed  deaths  recovered  diff_confirmed  diff_deaths  \\\n",
      "last_update                                                              \n",
      "2020-02-02          30       0          0             NaN          NaN   \n",
      "2020-02-04          16       0          0           -14.0          0.0   \n",
      "2020-02-05          19       0          0             3.0          0.0   \n",
      "2020-02-06          23       0          0             4.0          0.0   \n",
      "2020-02-07          48       0          2            25.0          0.0   \n",
      "2020-02-09          25       0          3           -23.0          0.0   \n",
      "2020-02-10          27       0          3             2.0          0.0   \n",
      "2020-02-11          28       0          3             1.0          0.0   \n",
      "2020-02-12          84       0         21            56.0          0.0   \n",
      "2020-02-15          28       0          9           -56.0          0.0   \n",
      "2020-02-16          29       0          9             1.0          0.0   \n",
      "2020-02-17          30       0         10             1.0          0.0   \n",
      "2020-02-18          62       0         24            32.0          0.0   \n",
      "2020-02-20         104       1         16            42.0          1.0   \n",
      "2020-02-21         204       2         16           100.0          1.0   \n",
      "2020-02-22         433       2         16           229.0          0.0   \n",
      "2020-02-23         602       6         18           169.0          4.0   \n",
      "2020-02-24         833       8         18           231.0          2.0   \n",
      "2020-02-25         977      10         22           144.0          2.0   \n",
      "2020-02-26        1261      12         22           284.0          2.0   \n",
      "2020-02-27        1766      13         22           505.0          1.0   \n",
      "2020-02-28        2337      13         22           571.0          0.0   \n",
      "2020-02-29        3150      16         27           813.0          3.0   \n",
      "2020-03-01        3736      17         30           586.0          1.0   \n",
      "2020-03-02        4335      28         30           599.0         11.0   \n",
      "2020-03-03        5186      28         30           851.0          0.0   \n",
      "2020-03-04        5621      35         41           435.0          7.0   \n",
      "2020-03-05        6088      35         41           467.0          0.0   \n",
      "2020-03-06        6593      42        135           505.0          7.0   \n",
      "2020-03-07        7041      44        135           448.0          2.0   \n",
      "2020-03-08        7314      50        118           273.0          6.0   \n",
      "2020-03-09        7478      53        118           164.0          3.0   \n",
      "2020-03-10        7513      54        247            35.0          1.0   \n",
      "2020-03-11       15734     126        798          8221.0         72.0   \n",
      "2020-03-12        7869      66        333         -7865.0        -60.0   \n",
      "2020-03-14        8086      72        510           217.0          6.0   \n",
      "2020-03-15        8162      75        510            76.0          3.0   \n",
      "2020-03-16        8236      75       1137            74.0          0.0   \n",
      "2020-03-17        8320      81       1407            84.0          6.0   \n",
      "2020-03-18        8413      84       1540            93.0          3.0   \n",
      "2020-03-19        8565      91       1540           152.0          7.0   \n",
      "2020-03-20        8652      94       1540            87.0          3.0   \n",
      "2020-03-21        8799     102       1540           147.0          8.0   \n",
      "2020-03-23        8961     111       3166           162.0          9.0   \n",
      "2020-03-24        9037     120       3507            76.0          9.0   \n",
      "2020-03-25        9137     126       3730           100.0          6.0   \n",
      "2020-03-26        9241     131       4144           104.0          5.0   \n",
      "\n",
      "             diff_recovered  fatalities_rate  fatalities_rate_percent  \\\n",
      "last_update                                                             \n",
      "2020-02-02              NaN         0.000000                 0.000000   \n",
      "2020-02-04              0.0         0.000000                 0.000000   \n",
      "2020-02-05              0.0         0.000000                 0.000000   \n",
      "2020-02-06              0.0         0.000000                 0.000000   \n",
      "2020-02-07              2.0         0.000000                 0.000000   \n",
      "2020-02-09              1.0         0.000000                 0.000000   \n",
      "2020-02-10              0.0         0.000000                 0.000000   \n",
      "2020-02-11              0.0         0.000000                 0.000000   \n",
      "2020-02-12             18.0         0.000000                 0.000000   \n",
      "2020-02-15            -12.0         0.000000                 0.000000   \n",
      "2020-02-16              0.0         0.000000                 0.000000   \n",
      "2020-02-17              1.0         0.000000                 0.000000   \n",
      "2020-02-18             14.0         0.000000                 0.000000   \n",
      "2020-02-20             -8.0         0.009615                 0.961538   \n",
      "2020-02-21              0.0         0.009804                 0.980392   \n",
      "2020-02-22              0.0         0.004619                 0.461894   \n",
      "2020-02-23              2.0         0.009967                 0.996678   \n",
      "2020-02-24              0.0         0.009604                 0.960384   \n",
      "2020-02-25              4.0         0.010235                 1.023541   \n",
      "2020-02-26              0.0         0.009516                 0.951626   \n",
      "2020-02-27              0.0         0.007361                 0.736127   \n",
      "2020-02-28              0.0         0.005563                 0.556269   \n",
      "2020-02-29              5.0         0.005079                 0.507937   \n",
      "2020-03-01              3.0         0.004550                 0.455032   \n",
      "2020-03-02              0.0         0.006459                 0.645905   \n",
      "2020-03-03              0.0         0.005399                 0.539915   \n",
      "2020-03-04             11.0         0.006227                 0.622665   \n",
      "2020-03-05              0.0         0.005749                 0.574901   \n",
      "2020-03-06             94.0         0.006370                 0.637039   \n",
      "2020-03-07              0.0         0.006249                 0.624911   \n",
      "2020-03-08            -17.0         0.006836                 0.683620   \n",
      "2020-03-09              0.0         0.007087                 0.708746   \n",
      "2020-03-10            129.0         0.007188                 0.718754   \n",
      "2020-03-11            551.0         0.008008                 0.800814   \n",
      "2020-03-12           -465.0         0.008387                 0.838734   \n",
      "2020-03-14            177.0         0.008904                 0.890428   \n",
      "2020-03-15              0.0         0.009189                 0.918892   \n",
      "2020-03-16            627.0         0.009106                 0.910636   \n",
      "2020-03-17            270.0         0.009736                 0.973558   \n",
      "2020-03-18            133.0         0.009985                 0.998455   \n",
      "2020-03-19              0.0         0.010625                 1.062464   \n",
      "2020-03-20              0.0         0.010865                 1.086454   \n",
      "2020-03-21              0.0         0.011592                 1.159223   \n",
      "2020-03-23           1626.0         0.012387                 1.238701   \n",
      "2020-03-24            341.0         0.013279                 1.327874   \n",
      "2020-03-25            223.0         0.013790                 1.379008   \n",
      "2020-03-26            414.0         0.014176                 1.417595   \n",
      "\n",
      "             recovery_rate  recovery_rate_percent  \n",
      "last_update                                        \n",
      "2020-02-02        0.000000               0.000000  \n",
      "2020-02-04        0.000000               0.000000  \n",
      "2020-02-05        0.000000               0.000000  \n",
      "2020-02-06        0.000000               0.000000  \n",
      "2020-02-07        0.041667               4.166667  \n",
      "2020-02-09        0.120000              12.000000  \n",
      "2020-02-10        0.111111              11.111111  \n",
      "2020-02-11        0.107143              10.714286  \n",
      "2020-02-12        0.250000              25.000000  \n",
      "2020-02-15        0.321429              32.142857  \n",
      "2020-02-16        0.310345              31.034483  \n",
      "2020-02-17        0.333333              33.333333  \n",
      "2020-02-18        0.387097              38.709677  \n",
      "2020-02-20        0.153846              15.384615  \n",
      "2020-02-21        0.078431               7.843137  \n",
      "2020-02-22        0.036952               3.695150  \n",
      "2020-02-23        0.029900               2.990033  \n",
      "2020-02-24        0.021609               2.160864  \n",
      "2020-02-25        0.022518               2.251791  \n",
      "2020-02-26        0.017446               1.744647  \n",
      "2020-02-27        0.012458               1.245753  \n",
      "2020-02-28        0.009414               0.941378  \n",
      "2020-02-29        0.008571               0.857143  \n",
      "2020-03-01        0.008030               0.802998  \n",
      "2020-03-02        0.006920               0.692042  \n",
      "2020-03-03        0.005785               0.578481  \n",
      "2020-03-04        0.007294               0.729408  \n",
      "2020-03-05        0.006735               0.673456  \n",
      "2020-03-06        0.020476               2.047626  \n",
      "2020-03-07        0.019173               1.917341  \n",
      "2020-03-08        0.016133               1.613344  \n",
      "2020-03-09        0.015780               1.577962  \n",
      "2020-03-10        0.032876               3.287635  \n",
      "2020-03-11        0.050718               5.071819  \n",
      "2020-03-12        0.042318               4.231796  \n",
      "2020-03-14        0.063072               6.307198  \n",
      "2020-03-15        0.062485               6.248469  \n",
      "2020-03-16        0.138052              13.805245  \n",
      "2020-03-17        0.169111              16.911058  \n",
      "2020-03-18        0.183050              18.305004  \n",
      "2020-03-19        0.179802              17.980152  \n",
      "2020-03-20        0.177994              17.799353  \n",
      "2020-03-21        0.175020              17.501989  \n",
      "2020-03-23        0.353309              35.330878  \n",
      "2020-03-24        0.388071              38.807126  \n",
      "2020-03-25        0.408230              40.823027  \n",
      "2020-03-26        0.448436              44.843632  \n"
     ],
     "output_type": "stream"
    },
    {
     "data": {
      "text/plain": "<Figure size 432x288 with 1 Axes>",
      "image/png": "[encoded data removed]"
     },
     "metadata": {
      "needs_background": "light"
     },
     "output_type": "display_data"
    }
   ],
   "source": [
    "plot_country_data(data_by_days, \"South Korea\")"
   ]
  },
  {
   "cell_type": "markdown",
   "source": [
    "A Alemanha adotou a estratégia de testagem massiva desde o início e essa medida tem levado a uma baixa quantidade de mortes diferentes de outros países na europa.\n",
    "Além disso, a quarentena da população, para que não saiam de casa tem sido imposta por governos municipais e estaduais de acordo [G1](https://g1.globo.com/bemestar/coronavirus/noticia/2020/03/20/alemanha-tem-poucas-mortes-por-covid-19-gracas-a-exames-precoces.ghtml)."
   ],
   "metadata": {
    "collapsed": false,
    "pycharm": {
     "name": "#%% md\n"
    }
   }
  },
  {
   "cell_type": "code",
   "execution_count": 26,
   "outputs": [
    {
     "name": "stdout",
     "text": [
      "             confirmed  deaths  recovered  diff_confirmed  diff_deaths  \\\n",
      "last_update                                                              \n",
      "2020-02-02          10       0          0             NaN          NaN   \n",
      "2020-02-03          48       0          0            38.0          0.0   \n",
      "2020-02-07          26       0          0           -22.0          0.0   \n",
      "2020-02-09          28       0          0             2.0          0.0   \n",
      "2020-02-11          32       0          0             4.0          0.0   \n",
      "2020-02-13          80       0          5            48.0          0.0   \n",
      "2020-02-18          48       0         36           -32.0          0.0   \n",
      "2020-02-21          64       0         56            16.0          0.0   \n",
      "2020-02-25          17       0         14           -47.0          0.0   \n",
      "2020-02-26          27       0         15            10.0          0.0   \n",
      "2020-02-27          46       0         16            19.0          0.0   \n",
      "2020-02-28          48       0         16             2.0          0.0   \n",
      "2020-02-29          79       0         16            31.0          0.0   \n",
      "2020-03-01         130       0         16            51.0          0.0   \n",
      "2020-03-02         159       0         16            29.0          0.0   \n",
      "2020-03-03         196       0         16            37.0          0.0   \n",
      "2020-03-04         262       0         16            66.0          0.0   \n",
      "2020-03-05         482       0         16           220.0          0.0   \n",
      "2020-03-06         670       0         17           188.0          0.0   \n",
      "2020-03-07         799       0         18           129.0          0.0   \n",
      "2020-03-08        1040       0         18           241.0          0.0   \n",
      "2020-03-09        1176       2         18           136.0          2.0   \n",
      "2020-03-10        1457       2         18           281.0          0.0   \n",
      "2020-03-11        5583      10         71          4126.0          8.0   \n",
      "2020-03-12        2078       3         25         -3505.0         -7.0   \n",
      "2020-03-14        4585       9         46          2507.0          6.0   \n",
      "2020-03-15        5795      11         46          1210.0          2.0   \n",
      "2020-03-16        7272      17         67          1477.0          6.0   \n",
      "2020-03-17        9257      24         67          1985.0          7.0   \n",
      "2020-03-18       12327      28        105          3070.0          4.0   \n",
      "2020-03-19       15320      44        113          2993.0         16.0   \n",
      "2020-03-20       19848      67        180          4528.0         23.0   \n",
      "2020-03-21       22213      84        233          2365.0         17.0   \n",
      "2020-03-23       29056     123        453          6843.0         39.0   \n",
      "2020-03-24       32986     157       3243          3930.0         34.0   \n",
      "2020-03-25       37323     206       3547          4337.0         49.0   \n",
      "2020-03-26       43938     267       5673          6615.0         61.0   \n",
      "\n",
      "             diff_recovered  fatalities_rate  fatalities_rate_percent  \\\n",
      "last_update                                                             \n",
      "2020-02-02              NaN         0.000000                 0.000000   \n",
      "2020-02-03              0.0         0.000000                 0.000000   \n",
      "2020-02-07              0.0         0.000000                 0.000000   \n",
      "2020-02-09              0.0         0.000000                 0.000000   \n",
      "2020-02-11              0.0         0.000000                 0.000000   \n",
      "2020-02-13              5.0         0.000000                 0.000000   \n",
      "2020-02-18             31.0         0.000000                 0.000000   \n",
      "2020-02-21             20.0         0.000000                 0.000000   \n",
      "2020-02-25            -42.0         0.000000                 0.000000   \n",
      "2020-02-26              1.0         0.000000                 0.000000   \n",
      "2020-02-27              1.0         0.000000                 0.000000   \n",
      "2020-02-28              0.0         0.000000                 0.000000   \n",
      "2020-02-29              0.0         0.000000                 0.000000   \n",
      "2020-03-01              0.0         0.000000                 0.000000   \n",
      "2020-03-02              0.0         0.000000                 0.000000   \n",
      "2020-03-03              0.0         0.000000                 0.000000   \n",
      "2020-03-04              0.0         0.000000                 0.000000   \n",
      "2020-03-05              0.0         0.000000                 0.000000   \n",
      "2020-03-06              1.0         0.000000                 0.000000   \n",
      "2020-03-07              1.0         0.000000                 0.000000   \n",
      "2020-03-08              0.0         0.000000                 0.000000   \n",
      "2020-03-09              0.0         0.001701                 0.170068   \n",
      "2020-03-10              0.0         0.001373                 0.137268   \n",
      "2020-03-11             53.0         0.001791                 0.179115   \n",
      "2020-03-12            -46.0         0.001444                 0.144370   \n",
      "2020-03-14             21.0         0.001963                 0.196292   \n",
      "2020-03-15              0.0         0.001898                 0.189819   \n",
      "2020-03-16             21.0         0.002338                 0.233773   \n",
      "2020-03-17              0.0         0.002593                 0.259263   \n",
      "2020-03-18             38.0         0.002271                 0.227144   \n",
      "2020-03-19              8.0         0.002872                 0.287206   \n",
      "2020-03-20             67.0         0.003376                 0.337565   \n",
      "2020-03-21             53.0         0.003782                 0.378157   \n",
      "2020-03-23            220.0         0.004233                 0.423320   \n",
      "2020-03-24           2790.0         0.004760                 0.475959   \n",
      "2020-03-25            304.0         0.005519                 0.551938   \n",
      "2020-03-26           2126.0         0.006077                 0.607674   \n",
      "\n",
      "             recovery_rate  recovery_rate_percent  \n",
      "last_update                                        \n",
      "2020-02-02        0.000000               0.000000  \n",
      "2020-02-03        0.000000               0.000000  \n",
      "2020-02-07        0.000000               0.000000  \n",
      "2020-02-09        0.000000               0.000000  \n",
      "2020-02-11        0.000000               0.000000  \n",
      "2020-02-13        0.062500               6.250000  \n",
      "2020-02-18        0.750000              75.000000  \n",
      "2020-02-21        0.875000              87.500000  \n",
      "2020-02-25        0.823529              82.352941  \n",
      "2020-02-26        0.555556              55.555556  \n",
      "2020-02-27        0.347826              34.782609  \n",
      "2020-02-28        0.333333              33.333333  \n",
      "2020-02-29        0.202532              20.253165  \n",
      "2020-03-01        0.123077              12.307692  \n",
      "2020-03-02        0.100629              10.062893  \n",
      "2020-03-03        0.081633               8.163265  \n",
      "2020-03-04        0.061069               6.106870  \n",
      "2020-03-05        0.033195               3.319502  \n",
      "2020-03-06        0.025373               2.537313  \n",
      "2020-03-07        0.022528               2.252816  \n",
      "2020-03-08        0.017308               1.730769  \n",
      "2020-03-09        0.015306               1.530612  \n",
      "2020-03-10        0.012354               1.235415  \n",
      "2020-03-11        0.012717               1.271718  \n",
      "2020-03-12        0.012031               1.203080  \n",
      "2020-03-14        0.010033               1.003272  \n",
      "2020-03-15        0.007938               0.793788  \n",
      "2020-03-16        0.009213               0.921342  \n",
      "2020-03-17        0.007238               0.723777  \n",
      "2020-03-18        0.008518               0.851789  \n",
      "2020-03-19        0.007376               0.737598  \n",
      "2020-03-20        0.009069               0.906892  \n",
      "2020-03-21        0.010489               1.048935  \n",
      "2020-03-23        0.015591               1.559058  \n",
      "2020-03-24        0.098314               9.831444  \n",
      "2020-03-25        0.095035               9.503523  \n",
      "2020-03-26        0.129114              12.911375  \n"
     ],
     "output_type": "stream"
    },
    {
     "data": {
      "text/plain": "<Figure size 432x288 with 1 Axes>",
      "image/png": "[encoded data removed]"
     },
     "metadata": {
      "needs_background": "light"
     },
     "output_type": "display_data"
    }
   ],
   "source": [
    "plot_country_data(data_by_days, \"Germany\")"
   ],
   "metadata": {
    "collapsed": false,
    "pycharm": {
     "name": "#%%\n",
     "is_executing": false
    }
   }
  },
  {
   "cell_type": "markdown",
   "source": [
    "Não muito tempo depois da Itália ter ultrapassado a quantidade de casos confirmados.\n",
    "Os Estados Unidos assumiu o topo da lista e com crescimento de cerca de 20 mil casos por dia.\n",
    "Na [wikipedia](https://en.wikipedia.org/wiki/2020_coronavirus_pandemic_in_the_United_States) há informações que relatam a estratégia e a evolução da doença em território norte americano.\n",
    "A Quarentena tem sido adotado por alguns estados que estão sendo mais acometidos pela doença a fim de conter seu espalhamento.\n",
    "Inicialmente a quantidade de testes foi limitada a casos graves, entretanto, recentemente foi anunciado que realizariam em toda a população com postos em grandes supermercados.\n",
    "O governo tem incentivado pesquisas por uma vacina ou medicação para o corona vírus mas até o momento não há um tratamento considerado eficiente contra a doença.\n"
   ],
   "metadata": {
    "collapsed": false
   }
  },
  {
   "cell_type": "code",
   "execution_count": 27,
   "outputs": [
    {
     "name": "stdout",
     "text": [
      "             confirmed  deaths  recovered  diff_confirmed  diff_deaths  \\\n",
      "last_update                                                              \n",
      "2020-02-01         133       0          0             NaN          NaN   \n",
      "2020-02-03         108       0          0           -25.0          0.0   \n",
      "2020-02-05          27       0          0           -81.0          0.0   \n",
      "2020-02-09          62       0         62            35.0          0.0   \n",
      "2020-02-11           2       0          0           -60.0          0.0   \n",
      "2020-02-13          42       0          0            40.0          0.0   \n",
      "2020-02-21          84       0         21            42.0          0.0   \n",
      "2020-02-22          36       0          0           -48.0          0.0   \n",
      "2020-02-24          36       0          0             0.0          0.0   \n",
      "2020-02-25          47       0         11            11.0          0.0   \n",
      "2020-02-26          84       0          0            37.0          0.0   \n",
      "2020-02-27          24       0          0           -60.0          0.0   \n",
      "2020-02-28         139       0          7           115.0          0.0   \n",
      "2020-02-29          15       1          3          -124.0          1.0   \n",
      "2020-03-01          15       1          3             0.0          0.0   \n",
      "2020-03-02         442       6          8           427.0          5.0   \n",
      "2020-03-03         128       7         10          -314.0          1.0   \n",
      "2020-03-04          77      12          1           -51.0          5.0   \n",
      "2020-03-05         195      11         12           118.0         -1.0   \n",
      "2020-03-06         240      16          3            45.0          5.0   \n",
      "2020-03-07         416      16          7           176.0          0.0   \n",
      "2020-03-08         665      40         10           249.0         24.0   \n",
      "2020-03-09         203       2          0          -462.0        -38.0   \n",
      "2020-03-10        1247      28          8          1044.0         26.0   \n",
      "2020-03-11        3425      84         21          2178.0         56.0   \n",
      "2020-03-12        1557      39         11         -1868.0        -45.0   \n",
      "2020-03-13          33       0          0         -1524.0        -39.0   \n",
      "2020-03-14        3170      57         14          3137.0         57.0   \n",
      "2020-03-15        2898      60         10          -272.0          3.0   \n",
      "2020-03-16        4847      85         17          1949.0         25.0   \n",
      "2020-03-17        6585     112         17          1738.0         27.0   \n",
      "2020-03-18        7460     115        106           875.0          3.0   \n",
      "2020-03-19       13648     199        108          6188.0         84.0   \n",
      "2020-03-20       19215     247        147          5567.0         48.0   \n",
      "2020-03-21       25335     304        171          6120.0         57.0   \n",
      "2020-03-23       43667     552          0         18332.0        248.0   \n",
      "2020-03-24       53740     706        348         10073.0        154.0   \n",
      "2020-03-25       65778     942        361         12038.0        236.0   \n",
      "2020-03-26       83836    1209        681         18058.0        267.0   \n",
      "\n",
      "             diff_recovered  fatalities_rate  fatalities_rate_percent  \\\n",
      "last_update                                                             \n",
      "2020-02-01              NaN         0.000000                 0.000000   \n",
      "2020-02-03              0.0         0.000000                 0.000000   \n",
      "2020-02-05              0.0         0.000000                 0.000000   \n",
      "2020-02-09             62.0         0.000000                 0.000000   \n",
      "2020-02-11            -62.0         0.000000                 0.000000   \n",
      "2020-02-13              0.0         0.000000                 0.000000   \n",
      "2020-02-21             21.0         0.000000                 0.000000   \n",
      "2020-02-22            -21.0         0.000000                 0.000000   \n",
      "2020-02-24              0.0         0.000000                 0.000000   \n",
      "2020-02-25             11.0         0.000000                 0.000000   \n",
      "2020-02-26            -11.0         0.000000                 0.000000   \n",
      "2020-02-27              0.0         0.000000                 0.000000   \n",
      "2020-02-28              7.0         0.000000                 0.000000   \n",
      "2020-02-29             -4.0         0.066667                 6.666667   \n",
      "2020-03-01              0.0         0.066667                 6.666667   \n",
      "2020-03-02              5.0         0.013575                 1.357466   \n",
      "2020-03-03              2.0         0.054688                 5.468750   \n",
      "2020-03-04             -9.0         0.155844                15.584416   \n",
      "2020-03-05             11.0         0.056410                 5.641026   \n",
      "2020-03-06             -9.0         0.066667                 6.666667   \n",
      "2020-03-07              4.0         0.038462                 3.846154   \n",
      "2020-03-08              3.0         0.060150                 6.015038   \n",
      "2020-03-09            -10.0         0.009852                 0.985222   \n",
      "2020-03-10              8.0         0.022454                 2.245389   \n",
      "2020-03-11             13.0         0.024526                 2.452555   \n",
      "2020-03-12            -10.0         0.025048                 2.504817   \n",
      "2020-03-13            -11.0         0.000000                 0.000000   \n",
      "2020-03-14             14.0         0.017981                 1.798107   \n",
      "2020-03-15             -4.0         0.020704                 2.070393   \n",
      "2020-03-16              7.0         0.017537                 1.753662   \n",
      "2020-03-17              0.0         0.017008                 1.700835   \n",
      "2020-03-18             89.0         0.015416                 1.541555   \n",
      "2020-03-19              2.0         0.014581                 1.458089   \n",
      "2020-03-20             39.0         0.012855                 1.285454   \n",
      "2020-03-21             24.0         0.011999                 1.199921   \n",
      "2020-03-23           -171.0         0.012641                 1.264112   \n",
      "2020-03-24            348.0         0.013137                 1.313733   \n",
      "2020-03-25             13.0         0.014321                 1.432090   \n",
      "2020-03-26            320.0         0.014421                 1.442101   \n",
      "\n",
      "             recovery_rate  recovery_rate_percent  \n",
      "last_update                                        \n",
      "2020-02-01        0.000000               0.000000  \n",
      "2020-02-03        0.000000               0.000000  \n",
      "2020-02-05        0.000000               0.000000  \n",
      "2020-02-09        1.000000             100.000000  \n",
      "2020-02-11        0.000000               0.000000  \n",
      "2020-02-13        0.000000               0.000000  \n",
      "2020-02-21        0.250000              25.000000  \n",
      "2020-02-22        0.000000               0.000000  \n",
      "2020-02-24        0.000000               0.000000  \n",
      "2020-02-25        0.234043              23.404255  \n",
      "2020-02-26        0.000000               0.000000  \n",
      "2020-02-27        0.000000               0.000000  \n",
      "2020-02-28        0.050360               5.035971  \n",
      "2020-02-29        0.200000              20.000000  \n",
      "2020-03-01        0.200000              20.000000  \n",
      "2020-03-02        0.018100               1.809955  \n",
      "2020-03-03        0.078125               7.812500  \n",
      "2020-03-04        0.012987               1.298701  \n",
      "2020-03-05        0.061538               6.153846  \n",
      "2020-03-06        0.012500               1.250000  \n",
      "2020-03-07        0.016827               1.682692  \n",
      "2020-03-08        0.015038               1.503759  \n",
      "2020-03-09        0.000000               0.000000  \n",
      "2020-03-10        0.006415               0.641540  \n",
      "2020-03-11        0.006131               0.613139  \n",
      "2020-03-12        0.007065               0.706487  \n",
      "2020-03-13        0.000000               0.000000  \n",
      "2020-03-14        0.004416               0.441640  \n",
      "2020-03-15        0.003451               0.345066  \n",
      "2020-03-16        0.003507               0.350732  \n",
      "2020-03-17        0.002582               0.258162  \n",
      "2020-03-18        0.014209               1.420912  \n",
      "2020-03-19        0.007913               0.791325  \n",
      "2020-03-20        0.007650               0.765027  \n",
      "2020-03-21        0.006750               0.674956  \n",
      "2020-03-23        0.000000               0.000000  \n",
      "2020-03-24        0.006476               0.647562  \n",
      "2020-03-25        0.005488               0.548816  \n",
      "2020-03-26        0.008123               0.812300  \n"
     ],
     "output_type": "stream"
    },
    {
     "data": {
      "text/plain": "<Figure size 432x288 with 1 Axes>",
      "image/png": "[encoded data removed]"
     },
     "metadata": {
      "needs_background": "light"
     },
     "output_type": "display_data"
    }
   ],
   "source": [
    "plot_country_data(data_by_days, \"US\")"
   ],
   "metadata": {
    "collapsed": false,
    "pycharm": {
     "name": "#%%\n",
     "is_executing": false
    }
   }
  },
  {
   "cell_type": "markdown",
   "source": [
    "Relatos no [wikipedia](https://pt.wikipedia.org/wiki/Pandemia_de_COVID-19_no_Brasil), mostram que no Brasil, os casos se concentram na região sudeste principalmente em São Paulo.\n",
    "Com o espalhamento da doença, estado tem adotado a quarentena a fim de conter a taxa de infecção.\n",
    "Isso tem causado controvérsias quanto ao posicionamento do governo federal que já pediu que os estados e cidades em quarentena a interrompecem.\n",
    "Os testes tem sido feitos de forma selecionado, apenas os pacientes em estado mais grave são testados.\n",
    "Ainda assim o número de casos tem sido expressivo e feito com que o país esteja entre os vinte primeiros.\n"
   ],
   "metadata": {
    "collapsed": false,
    "pycharm": {
     "name": "#%% md\n"
    }
   }
  },
  {
   "cell_type": "code",
   "execution_count": 28,
   "metadata": {
    "pycharm": {
     "is_executing": false,
     "name": "#%%\n"
    }
   },
   "outputs": [
    {
     "name": "stdout",
     "text": [
      "             confirmed  deaths  recovered  diff_confirmed  diff_deaths  \\\n",
      "last_update                                                              \n",
      "2020-02-26           3       0          0             NaN          NaN   \n",
      "2020-02-29           8       0          0             5.0          0.0   \n",
      "2020-03-04           8       0          0             0.0          0.0   \n",
      "2020-03-06          26       0          0            18.0          0.0   \n",
      "2020-03-08          20       0          0            -6.0          0.0   \n",
      "2020-03-09          25       0          0             5.0          0.0   \n",
      "2020-03-10          31       0          0             6.0          0.0   \n",
      "2020-03-11         189       0          0           158.0          0.0   \n",
      "2020-03-12          52       0          0          -137.0          0.0   \n",
      "2020-03-13         151       0          0            99.0          0.0   \n",
      "2020-03-15         162       0          0            11.0          0.0   \n",
      "2020-03-16         200       0          1            38.0          0.0   \n",
      "2020-03-17         321       1          2           121.0          1.0   \n",
      "2020-03-18         372       3          2            51.0          2.0   \n",
      "2020-03-19         621       6          2           249.0          3.0   \n",
      "2020-03-20         793      11          2           172.0          5.0   \n",
      "2020-03-21        1021      15          2           228.0          4.0   \n",
      "2020-03-23        1924      34          2           903.0         19.0   \n",
      "2020-03-24        2247      46          2           323.0         12.0   \n",
      "2020-03-25        2554      59          2           307.0         13.0   \n",
      "2020-03-26        2985      77          6           431.0         18.0   \n",
      "\n",
      "             diff_recovered  fatalities_rate  fatalities_rate_percent  \\\n",
      "last_update                                                             \n",
      "2020-02-26              NaN         0.000000                 0.000000   \n",
      "2020-02-29              0.0         0.000000                 0.000000   \n",
      "2020-03-04              0.0         0.000000                 0.000000   \n",
      "2020-03-06              0.0         0.000000                 0.000000   \n",
      "2020-03-08              0.0         0.000000                 0.000000   \n",
      "2020-03-09              0.0         0.000000                 0.000000   \n",
      "2020-03-10              0.0         0.000000                 0.000000   \n",
      "2020-03-11              0.0         0.000000                 0.000000   \n",
      "2020-03-12              0.0         0.000000                 0.000000   \n",
      "2020-03-13              0.0         0.000000                 0.000000   \n",
      "2020-03-15              0.0         0.000000                 0.000000   \n",
      "2020-03-16              1.0         0.000000                 0.000000   \n",
      "2020-03-17              1.0         0.003115                 0.311526   \n",
      "2020-03-18              0.0         0.008065                 0.806452   \n",
      "2020-03-19              0.0         0.009662                 0.966184   \n",
      "2020-03-20              0.0         0.013871                 1.387137   \n",
      "2020-03-21              0.0         0.014691                 1.469148   \n",
      "2020-03-23              0.0         0.017672                 1.767152   \n",
      "2020-03-24              0.0         0.020472                 2.047174   \n",
      "2020-03-25              0.0         0.023101                 2.310102   \n",
      "2020-03-26              4.0         0.025796                 2.579564   \n",
      "\n",
      "             recovery_rate  recovery_rate_percent  \n",
      "last_update                                        \n",
      "2020-02-26        0.000000               0.000000  \n",
      "2020-02-29        0.000000               0.000000  \n",
      "2020-03-04        0.000000               0.000000  \n",
      "2020-03-06        0.000000               0.000000  \n",
      "2020-03-08        0.000000               0.000000  \n",
      "2020-03-09        0.000000               0.000000  \n",
      "2020-03-10        0.000000               0.000000  \n",
      "2020-03-11        0.000000               0.000000  \n",
      "2020-03-12        0.000000               0.000000  \n",
      "2020-03-13        0.000000               0.000000  \n",
      "2020-03-15        0.000000               0.000000  \n",
      "2020-03-16        0.005000               0.500000  \n",
      "2020-03-17        0.006231               0.623053  \n",
      "2020-03-18        0.005376               0.537634  \n",
      "2020-03-19        0.003221               0.322061  \n",
      "2020-03-20        0.002522               0.252207  \n",
      "2020-03-21        0.001959               0.195886  \n",
      "2020-03-23        0.001040               0.103950  \n",
      "2020-03-24        0.000890               0.089008  \n",
      "2020-03-25        0.000783               0.078309  \n",
      "2020-03-26        0.002010               0.201005  \n"
     ],
     "output_type": "stream"
    },
    {
     "data": {
      "text/plain": "<Figure size 432x288 with 1 Axes>",
      "image/png": "[encoded data removed]"
     },
     "metadata": {
      "needs_background": "light"
     },
     "output_type": "display_data"
    }
   ],
   "source": [
    "plot_country_data(data_by_days, \"Brazil\")"
   ]
  },
  {
   "cell_type": "markdown",
   "metadata": {
    "pycharm": {
     "is_executing": false,
     "name": "#%% md\n"
    }
   },
   "source": [
    "## Criação de Modelos de Machine Learning\n",
    "\n",
    "Uma forma de 'prever' o desenvolvimento da doença nos países seriam encontrando padrões que demonstrem quais a similaridades entre eles.\n",
    "Com base nos dados que temos a respeito do covid ao redor do mundo, podemos usar as taxas de mortalidade, de recuperação e de infecção para determinar as características de um país frente a doença.\n",
    "As taxas consideram a proporção mas não o volume, o que permite associar países com número menores com maiores em que a proporção de casos se similares.\n",
    "\n",
    "As técnicas de agrupamentos são uma excelente ferramenta para esta tarefa. \n",
    "Neste trabalho usamos  ** Agglomerative Clustering ** que nos retornar uma árvore com o agrupamento dos países dada a distância calculada com base em suas características.\n",
    "\n"
   ]
  },
  {
   "cell_type": "code",
   "execution_count": 30,
   "outputs": [],
   "source": [
    "import numpy as np\n",
    "\n",
    "from matplotlib import pyplot as plt\n",
    "from scipy.cluster.hierarchy import dendrogram\n",
    "from sklearn.cluster import AgglomerativeClustering"
   ],
   "metadata": {
    "collapsed": false,
    "pycharm": {
     "name": "#%%\n",
     "is_executing": false
    }
   }
  },
  {
   "cell_type": "markdown",
   "source": [
    "Para exibir os resultados, obtidos com a técnica aplicada, exibiremos em dendograma.\n",
    "Este gráfico permite-nos identificar quais países estão associados a quais."
   ],
   "metadata": {
    "collapsed": false,
    "pycharm": {
     "name": "#%% md\n"
    }
   }
  },
  {
   "cell_type": "code",
   "execution_count": 31,
   "outputs": [],
   "source": [
    "\n",
    "def plot_dendrogram(model, **kwargs):\n",
    "    # Create linkage matrix and then plot the dendrogram\n",
    "\n",
    "    # create the counts of samples under each node\n",
    "    counts = np.zeros(model.children_.shape[0])\n",
    "    n_samples = len(model.labels_)\n",
    "    for i, merge in enumerate(model.children_):\n",
    "        current_count = 0\n",
    "        for child_idx in merge:\n",
    "            if child_idx < n_samples:\n",
    "                current_count += 1  # leaf node\n",
    "            else:\n",
    "                current_count += counts[child_idx - n_samples]\n",
    "        counts[i] = current_count\n",
    "\n",
    "    linkage_matrix = np.column_stack([model.children_, model.distances_,\n",
    "                                      counts]).astype(float)\n",
    "\n",
    "    # Plot the corresponding dendrogram\n",
    "    dendrogram(linkage_matrix, **kwargs)"
   ],
   "metadata": {
    "collapsed": false,
    "pycharm": {
     "name": "#%%\n",
     "is_executing": false
    }
   }
  },
  {
   "cell_type": "markdown",
   "source": [
    "A varíavel X será nosso grupo de entrada para o algoritmo, logo a popularemos com os valores das características de cada país."
   ],
   "metadata": {
    "collapsed": false,
    "pycharm": {
     "name": "#%% md\n"
    }
   }
  },
  {
   "cell_type": "code",
   "execution_count": null,
   "outputs": [],
   "source": [
    "\n",
    "worldwide_cases_pd = worldwide_cases.select(['Country/Region', 'fatalities_rate', 'recovery_rate', 'population_infection_rate']).toPandas().dropna()\n",
    "print(worldwide_cases_pd)\n",
    "X = worldwide_cases_pd[['fatalities_rate', 'recovery_rate', 'population_infection_rate']]\n",
    "print(X)"
   ],
   "metadata": {
    "collapsed": false,
    "pycharm": {
     "name": "#%%\n"
    }
   }
  },
  {
   "cell_type": "markdown",
   "source": [
    "Assim podemos aplicar a técnica ao conjunto de dados a fim de obtermos o modelo que descreve os resultados do agrupamento. "
   ],
   "metadata": {
    "collapsed": false,
    "pycharm": {
     "name": "#%% md\n"
    }
   }
  },
  {
   "cell_type": "code",
   "execution_count": 32,
   "outputs": [
    {
     "name": "stdout",
     "text": [
      "[ 94 159 105 115  87 131  89 103 117 163 127 133 107 118 132 109  93 120\n",
      " 129 125  90  88 119 106 139 143 123 165  99 116 128 111 121 112  86 171\n",
      " 113 169 114 167 164  95 168  59  44 124  55 147 101  92 151 108  57  46\n",
      " 104  43  58  97  53 100  51  91 172 161  98  52  45 153 110  56  54  61\n",
      " 154 137  27  83  25 122  60 145 155  21  22 157 141  96 140  28  63 152\n",
      " 149 126 156  62  49  47 160  13  30  65 144 148  29 130  26 102  48  14\n",
      "  50  12  75  73 135 138  69  64 150  71 136   6  67 146 158 170 142  85\n",
      "  10  84 134  77  41  68  31  70  79 162  33  80  39  24 166  72  82  34\n",
      "  74  78  38  66  35  42  32  20  81  36  40  23  76  37  19  18   9  15\n",
      "  16  11   5   4   7  17   8   3   2   1   0]\n",
      "[ 94 159 105 115  87 131  89 103 117 163 127 133 107 118 132 109  93 120\n",
      " 129 125  90  88 119 106 139 143 123 165  99 116 128 111 121 112  86 171\n",
      " 113 169 114 167 164  95 168  59  44 124  55 147 101  92 151 108  57  46\n",
      " 104  43  58  97  53 100  51  91 172 161  98  52  45 153 110  56  54  61\n",
      " 154 137  27  83  25 122  60 145 155  21  22 157 141  96 140  28  63 152\n",
      " 149 126 156  62  49  47 160  13  30  65 144 148  29 130  26 102  48  14\n",
      "  50  12  75  73 135 138  69  64 150  71 136   6  67 146 158 170 142  85\n",
      "  10  84 134  77  41  68  31  70  79 162  33  80  39  24 166  72  82  34\n",
      "  74  78  38  66  35  42  32  20  81  36  40  23  76  37  19  18   9  15\n",
      "  16  11   5   4   7  17   8   3   2   1   0]\n"
     ],
     "output_type": "stream"
    }
   ],
   "source": [
    "\n",
    "# setting distance_threshold=0 ensures we compute the full tree.\n",
    "model = AgglomerativeClustering(distance_threshold=0, n_clusters=None)\n",
    "\n",
    "model = model.fit(X)"
   ],
   "metadata": {
    "collapsed": false,
    "pycharm": {
     "name": "#%%\n",
     "is_executing": false
    }
   }
  },
  {
   "cell_type": "markdown",
   "source": [
    "Por fim, passamos o modelo para ser exibido no dendograma. \n",
    "Com base no dendograma, notamos similaridades entre China e Coréia do Sul que possuem taxas maiores de recuperados.\n",
    "E, também, vemos Itália e Espanha agrupados que possuem uma taxa de mortalidade maior.\n",
    "Além disso, vemos esse dois grupos afastados nos extremos do dendograma."
   ],
   "metadata": {
    "collapsed": false,
    "pycharm": {
     "name": "#%% md\n"
    }
   }
  },
  {
   "cell_type": "code",
   "execution_count": 33,
   "outputs": [
    {
     "data": {
      "text/plain": "<Figure size 2160x1440 with 1 Axes>",
      "image/png": "[encoded data removed]"
     },
     "metadata": {
      "needs_background": "light"
     },
     "output_type": "display_data"
    },
    {
     "name": "stdout",
     "text": [
      "    Country/Region  fatalities_rate  recovery_rate  population_infection_rate\n",
      "1            China         0.040431       0.910982                   0.005837\n",
      "127       Maldives         0.000000       0.615385                   0.002521\n",
      "9      South Korea         0.014176       0.448436                   0.017897\n",
      "55         Bahrain         0.008734       0.445415                   0.029182\n",
      "6             Iran         0.075971       0.355608                   0.035949\n",
      "98         Belarus         0.000000       0.337209                   0.000907\n",
      "166          Nepal         0.000000       0.333333                   0.000011\n",
      "118          Macau         0.000000       0.322581                   0.004645\n",
      "58            Iraq         0.094241       0.274869                   0.000994\n",
      "27           Japan         0.033886       0.258832                   0.001096\n",
      "    Country/Region  fatalities_rate  recovery_rate  population_infection_rate\n",
      "159          Sudan         0.333333       0.000000                   0.000007\n",
      "165         Gambia         0.333333       0.000000                   0.000132\n",
      "162       Zimbabwe         0.333333       0.000000                   0.000021\n",
      "152     Cabo Verde         0.250000       0.000000                   0.000736\n",
      "149         Guyana         0.200000       0.000000                   0.000642\n",
      "140          Gabon         0.142857       0.000000                   0.000330\n",
      "113     Bangladesh         0.113636       0.250000                   0.000027\n",
      "2            Italy         0.101937       0.128566                   0.133356\n",
      "75      San Marino         0.100962       0.019231                   0.615658\n",
      "135          Niger         0.100000       0.000000                   0.000045\n",
      "    Country/Region  fatalities_rate  recovery_rate  population_infection_rate\n",
      "75      San Marino         0.100962       0.019231                   0.615658\n",
      "72         Andorra         0.013393       0.004464                   0.290886\n",
      "25      Luxembourg         0.006194       0.004129                   0.239087\n",
      "39         Iceland         0.002494       0.102244                   0.226827\n",
      "109  Liechtenstein         0.000000       0.000000                   0.147718\n",
      "8      Switzerland         0.016171       0.011091                   0.138683\n",
      "2            Italy         0.101937       0.128566                   0.133356\n",
      "3            Spain         0.075537       0.121396                   0.123676\n",
      "117         Monaco         0.000000       0.030303                   0.085311\n",
      "11         Austria         0.007092       0.016211                   0.078094\n"
     ],
     "output_type": "stream"
    }
   ],
   "source": [
    "plt.figure(figsize=(30,20))\n",
    "plot_dendrogram(model, truncate_mode='level', p=10)\n",
    "plt.xticks(fontsize= 18)\n",
    "plt.xlabel(\"Number of points in node (or index of point if no parenthesis).\")\n",
    "plt.show()\n",
    "print(worldwide_cases_pd.sort_values('recovery_rate', ascending=False).head(10))\n",
    "print(worldwide_cases_pd.sort_values('fatalities_rate', ascending=False).head(10))\n",
    "print(worldwide_cases_pd.sort_values('population_infection_rate', ascending=False).head(10))"
   ],
   "metadata": {
    "collapsed": false,
    "pycharm": {
     "name": "#%%\n",
     "is_executing": false
    }
   }
  },
  {
   "cell_type": "markdown",
   "source": [
    "## Apresentação dos Resultados\n",
    "\n",
    "O novo corona vírus (covid-19) tem se espalhado rapidamente pelo mundo desde que foi confirmado o primeiro caso na China.\n",
    "Esse novo vírus é uma ameça invísivel que já tem contabilizado dezena de milhares de mortes em pouco tempo.\n",
    "Sua forma de transmissão é baseada no contato social (beijos ou abraços) ou com o contato com superfícies contaminadas onde o vírus se mantém ativo por dias.\n",
    "Isso tem levado os países tomarem diversas medidas com intuito de conterem o avanço da doença em seus territórios.\n",
    "\n",
    "Dentre essas medidas estão: o isolamento social, por meio de quarentena voluntária (orientando para as pessoas não sairem de casa) ou forçada (interrompendo atividades comerciais, educacionais, eventos entre outros);\n",
    "testagem em massa contra o vírus a fim de identificar as pessoas contaminadas (mesmo que não apresentem sintomas) e isolá-las;\n",
    "além da orientação e educação a respeito da doença.\n",
    "A testagem em alguns países tem sido aplicada apenas em casos graves, o que não permite identificar aqueles que estão contaminados mas sem apresentar nenhum tipo de sintoma.\n",
    "E, assim, esses continuam circulando e contribuindo na disseminação da doença [CanalTech](https://canaltech.com.br/saude/testes-de-covid-19-na-islandia-mostram-que-metade-dos-infectados-e-assintomatica-162484/).\n",
    "\n",
    "Essas medidas naturalmente afetam o cotidiano e a economia dos países.\n",
    "Devido a isso vários países tem retardado a adoção dessas medidas.\n",
    "Os EUA tem apresentado um volume de desempregado histórico, artigo da [Istoé](https://www.istoedinheiro.com.br/eua-tem-recorde-em-pedidos-de-seguro-desemprego-em-meio-a-crise-da-covid-19/), independente das diversas medidas do governo para incentivar a economia diante da crise por conta da doença.\n",
    "Além de que devido a aversão a risco, o mercado de ações mundiais teren quedas históricas voltando a números de alguns anos atrás conforme artigo da [BBC](https://www.bbc.com/portuguese/brasil-51859307).\n",
    "\n",
    "Entretanto, com a capacidade de transmissão do vírus o aumento de casos é exponencial e em um curto prazo de tempo.\n",
    "O que leva ao comprometimento da rede de saúde com a incapacidade de atender tantas pessoas ao mesmo tempo.\n",
    "Vemos o reflexo disso principalmente em países como a Itália e a Espanha.\n",
    "Onde os médicos na Itália já tem que decidir quais pacientes valem a pena investir esforços para salvar ou não.\n",
    "\n",
    "Enquanto isso, países como a Coréia do Sul, Alemanha e China tem aplicado as medidas de forma intensa e antecipada.\n",
    "E com isso, tem contido o avanço da doença (a China chegou a ficar alguns dias sem contabilizar novos casos) e ter um volume maior de recuperados do que mortos.\n",
    "\n",
    "Além disso, vemos em nosso resultado do agrupamento que aplicamos no conjunto de dados que estes países representam grupos em pontos extremos do dendograma, significando que possuem maior distância devido ao comportamento das taxas de mortes e recuperados.\n",
    "\n",
    "Com base nas análises dos dados e resultados obtidos nesse projeto concluímos que o isolamento social é importante a fim de conter a doença.\n",
    "A quarentena tem sido a forma mais eficaz, no momento, de combate a doença uma vez que não existe tratamento por meio de medicamentos ou vacinas.\n",
    "Entretanto, com um volume de testes mais eficiente e isolamentos de casos confirmados tem menor impacto na sociedade e torna o isolamento mais eficiente.\n",
    "\n"
   ],
   "metadata": {
    "collapsed": false,
    "pycharm": {
     "name": "#%% md\n"
    }
   }
  },
  {
   "cell_type": "markdown",
   "source": [
    "## Links\n",
    "\n",
    "Aqui você deve disponibilizar os links para o vídeo com sua apresentação de 5  minutos  e  para  o  repositório  contendo  os  dados  utilizados  no  projeto,  scripts criados, etc.\n",
    "\n"
   ],
   "metadata": {
    "collapsed": false,
    "pycharm": {
     "name": "#%% md\n"
    }
   }
  }
 ],
 "metadata": {
  "kernelspec": {
   "display_name": "Python 3",
   "language": "python",
   "name": "python3"
  },
  "language_info": {
   "codemirror_mode": {
    "name": "ipython",
    "version": 3
   },
   "file_extension": ".py",
   "mimetype": "text/x-python",
   "name": "python",
   "nbconvert_exporter": "python",
   "pygments_lexer": "ipython3",
   "version": "3.6.3"
  }
 },
 "nbformat": 4,
 "nbformat_minor": 1
}